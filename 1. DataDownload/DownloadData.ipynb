{
 "cells": [
  {
   "cell_type": "markdown",
   "id": "8ed486d2",
   "metadata": {},
   "source": [
    "# Imports"
   ]
  },
  {
   "cell_type": "code",
   "execution_count": 1,
   "id": "b3cc94bb",
   "metadata": {
    "tags": []
   },
   "outputs": [],
   "source": [
    "import requests  # To get the data\n",
    "from requests.adapters import HTTPAdapter\n",
    "from requests.packages.urllib3.util.retry import Retry\n",
    "import asyncio\n",
    "import aiohttp\n",
    "from aiohttp import ClientTimeout, ClientError # For timeouts and aiohttp specific errors\n",
    "\n",
    "from pymongo import MongoClient  # Database to store the data\n",
    "import json  # File IO\n",
    "from time import time  # To time the duration of the requests\n",
    "from time import sleep\n",
    "from IPython.display import display, clear_output\n",
    "import urllib3\n",
    "urllib3.disable_warnings(urllib3.exceptions.InsecureRequestWarning)"
   ]
  },
  {
   "cell_type": "markdown",
   "id": "6b2d3f2b",
   "metadata": {},
   "source": [
    "# Load Program Data"
   ]
  },
  {
   "cell_type": "code",
   "execution_count": 2,
   "id": "2d899568",
   "metadata": {
    "tags": []
   },
   "outputs": [],
   "source": [
    "# Get list of Jira sources\n",
    "with open('../0. DataDefinition/jira_data_sources.json') as f:\n",
    "    jira_data_sources = json.load(f)\n",
    "    \n",
    "# Connect to the database\n",
    "db = MongoClient()['JiraRepos']\n",
    "\n",
    "# Now-Invalid Jiras\n",
    "INVALID_JIRAS = ['Mindville', 'MariaDB']"
   ]
  },
  {
   "cell_type": "markdown",
   "id": "8134006c",
   "metadata": {
    "heading_collapsed": "true",
    "tags": []
   },
   "source": [
    "# Investigate Jira Data Accessibility"
   ]
  },
  {
   "cell_type": "code",
   "execution_count": null,
   "id": "55f240e8",
   "metadata": {
    "tags": []
   },
   "outputs": [],
   "source": [
    "def check_jira_url(jira_url):\n",
    "    print('')\n",
    "    print(f\"💡 Check Jira: {jira_url}\")\n",
    "    print('')\n",
    "    ## CHECK PROVIDED JIRA URL AVAILABILITY ##\n",
    "    print(f'Checking Jira url existence with GET: {jira_url}')\n",
    "    try:\n",
    "        requests.head(jira_url)\n",
    "    except ConnectionError:\n",
    "        print('❌ Provided Jira base url does not exist')\n",
    "        return\n",
    "    else:\n",
    "        print('✅ Provided Jira base url is reachable')\n",
    "        \n",
    "    ## CHECK PROVIDED JIRA URL API AVAILABILITY ##\n",
    "    response = requests.get(jira_url + '/rest/api/2/issuetype')\n",
    "    print('')\n",
    "    print(f'Checking Jira api with GET: {response.url}')\n",
    "    # Check response code\n",
    "    if response.status_code < 300:\n",
    "        print('✅ Jira API returned a successful response')\n",
    "    else:\n",
    "        print(response.status_code)\n",
    "        print(response.text)\n",
    "        print(response.url)\n",
    "        print('❌ Jira API did not return a successful response')\n",
    "        return\n",
    "    \n",
    "    ## CHECK NUMBER OF ISSUES ##\n",
    "    response = requests.get(jira_url + '/rest/api/2/search?jql=&maxResults=0')\n",
    "    print('')\n",
    "    print(f\"Retrieving total issue count with GET: {response.url}\")\n",
    "    # Check response code\n",
    "    if response.status_code < 300:\n",
    "        print(f\"Total Number of Issues: {response.json()['total']}\")\n",
    "        print('✅ Jira API returned a successful response')\n",
    "    else:\n",
    "        print(response.status_code)\n",
    "        print(response.text)\n",
    "        print(response.url)\n",
    "        print('❌ Jira API did not return a successful response')\n",
    "        return"
   ]
  },
  {
   "cell_type": "code",
   "execution_count": null,
   "id": "9332fdac",
   "metadata": {
    "tags": []
   },
   "outputs": [],
   "source": [
    "# Check all Jira URLs in provided jira_data_sources\n",
    "for jira_name, jira_obj in jira_data_sources.items():\n",
    "    \n",
    "    # Ignore Jiras that we know are now unreachable or empty\n",
    "    if jira_name in INVALID_JIRAS:\n",
    "        continue\n",
    "    \n",
    "    check_jira_url(jira_obj['jira_url'])"
   ]
  },
  {
   "cell_type": "markdown",
   "id": "bfb8ffa7",
   "metadata": {},
   "source": [
    "# Download Jira Data"
   ]
  },
  {
   "cell_type": "markdown",
   "id": "e0b910ab",
   "metadata": {
    "heading_collapsed": "true",
    "tags": []
   },
   "source": [
    "### Helper Functions"
   ]
  },
  {
   "cell_type": "code",
   "execution_count": 3,
   "id": "41a5042e",
   "metadata": {
    "tags": []
   },
   "outputs": [],
   "source": [
    "def format_duration(start_time, end_time):\n",
    "    # Get the total seconds of the duration\n",
    "    seconds = end_time - start_time\n",
    "    # Calculate the other time \n",
    "    milliseconds = int((seconds % 1) * 10000)\n",
    "    minutes = int(seconds / 60)\n",
    "    hours   = int(minutes / 60)\n",
    "    # Trim the values to fit in their appopriate slots\n",
    "    display_minutes = int(minutes % 60)\n",
    "    display_seconds = int(seconds % 60)\n",
    "\n",
    "    return f\"{hours:02}:{display_minutes:02}:{display_seconds:02}.{milliseconds:04}\""
   ]
  },
  {
   "cell_type": "markdown",
   "id": "c6a95aec",
   "metadata": {
    "heading_collapsed": "true",
    "tags": []
   },
   "source": [
    "### Download Jira Issue Type Information"
   ]
  },
  {
   "cell_type": "code",
   "execution_count": 8,
   "id": "e40b1b5c",
   "metadata": {
    "tags": []
   },
   "outputs": [
    {
     "name": "stdout",
     "output_type": "stream",
     "text": [
      "Fetching Issue Type info for Apache from https://issues.apache.org/jira/rest/api/2/issuetype\n",
      "Fetching Issue Type info for Hyperledger from https://jira.hyperledger.org/rest/api/2/issuetype\n",
      "❌ Error fetching Issue Type info for Hyperledger: HTTPSConnectionPool(host='jira.hyperledger.org', port=443): Max retries exceeded with url: /rest/api/2/issuetype (Caused by NameResolutionError(\"<urllib3.connection.HTTPSConnection object at 0x000002453BB7B250>: Failed to resolve 'jira.hyperledger.org' ([Errno 11001] getaddrinfo failed)\"))\n",
      "Fetching Issue Type info for IntelDAOS from https://jira.hpdd.intel.com/rest/api/2/issuetype\n",
      "❌ Error fetching Issue Type info for IntelDAOS: HTTPSConnectionPool(host='jira.hpdd.intel.com', port=443): Max retries exceeded with url: /rest/api/2/issuetype (Caused by SSLError(SSLCertVerificationError(1, \"[SSL: CERTIFICATE_VERIFY_FAILED] certificate verify failed: Hostname mismatch, certificate is not valid for 'jira.hpdd.intel.com'. (_ssl.c:997)\")))\n",
      "Fetching Issue Type info for JFrog from https://jfrog.com/jira/rest/api/2/issuetype\n",
      "❌ Error fetching Issue Type info for JFrog: 403 Client Error: Forbidden for url: https://jfrog-int.atlassian.net/browse//jfrog.com/jira/rest/api/2/issuetype\n",
      "Fetching Issue Type info for Jira from https://jira.atlassian.com/rest/api/2/issuetype\n",
      "Fetching Issue Type info for JiraEcosystem from https://ecosystem.atlassian.net/rest/api/2/issuetype\n",
      "Skipping Issue Type info for MariaDB (in INVALID_JIRAS).\n",
      "Skipping Issue Type info for Mindville (in INVALID_JIRAS).\n",
      "Fetching Issue Type info for Mojang from https://bugs.mojang.com/rest/api/2/issuetype\n",
      "❌ Error fetching Issue Type info for Mojang: Expecting value: line 1 column 1 (char 0)\n",
      "Fetching Issue Type info for MongoDB from https://jira.mongodb.org/rest/api/2/issuetype\n",
      "Fetching Issue Type info for Qt from https://bugreports.qt.io/rest/api/2/issuetype\n",
      "Fetching Issue Type info for RedHat from https://issues.redhat.com/rest/api/2/issuetype\n",
      "Fetching Issue Type info for Sakai from https://jira.sakaiproject.org/rest/api/2/issuetype\n",
      "Fetching Issue Type info for SecondLife from https://jira.secondlife.com/rest/api/2/issuetype\n",
      "❌ Error fetching Issue Type info for SecondLife: 403 Client Error: Forbidden for url: https://jira.secondlife.com/rest/api/2/issuetype\n",
      "Fetching Issue Type info for Sonatype from https://issues.sonatype.org/rest/api/2/issuetype\n",
      "❌ Error fetching Issue Type info for Sonatype: Expecting value: line 2 column 1 (char 1)\n",
      "Fetching Issue Type info for Spring from https://jira.spring.io/rest/api/2/issuetype\n",
      "❌ Error fetching Issue Type info for Spring: Expecting value: line 1 column 1 (char 0)\n"
     ]
    }
   ],
   "source": [
    "output_json = {}\n",
    "\n",
    "for jira_name, jira_data in jira_data_sources.items():\n",
    "    \n",
    "    # Ignore Jiras that we know are now unreachable or empty\n",
    "    if jira_name in INVALID_JIRAS:\n",
    "        print(f\"Skipping Issue Type info for {jira_name} (in INVALID_JIRAS).\")\n",
    "        continue\n",
    "\n",
    "    # Build the URL to get the information from\n",
    "    jira_issuetype_url = jira_data['jira_url'] + '/rest/api/2/issuetype'\n",
    "\n",
    "    try:\n",
    "        print(f\"Fetching Issue Type info for {jira_name} from {jira_issuetype_url}\")\n",
    "        response = requests.get(jira_issuetype_url, timeout=30) # Added timeout\n",
    "        response.raise_for_status() # Raise an exception for HTTP errors (4xx or 5xx)\n",
    "        # Get the issuetype definitions\n",
    "        documented_issuetypes = {\n",
    "            issuetype['name']: issuetype\n",
    "            for issuetype in response.json()\n",
    "        }\n",
    "        # Save the information\n",
    "        output_json[jira_name] = documented_issuetypes\n",
    "    except requests.exceptions.RequestException as e:\n",
    "        print(f\"❌ Error fetching Issue Type info for {jira_name}: {e}\")\n",
    "        continue # Continue to the next Jira source\n",
    "    except json.JSONDecodeError as e:\n",
    "        print(f\"❌ Error decoding JSON for Issue Type info for {jira_name}: {e}\")\n",
    "        continue"
   ]
  },
  {
   "cell_type": "markdown",
   "id": "8f6cf200-2a17-4aeb-8c32-67e37b8a7b33",
   "metadata": {
    "tags": []
   },
   "source": [
    "### Download Jira Issue Link Type Information"
   ]
  },
  {
   "cell_type": "code",
   "execution_count": null,
   "id": "0baccf37-5980-411f-b65d-71f619337540",
   "metadata": {
    "tags": []
   },
   "outputs": [],
   "source": [
    "# Write the result to a JSON\n",
    "output_json = {}\n",
    "\n",
    "for jira_name, jira_data in jira_data_sources.items():\n",
    "    \n",
    "    # Ignore Jiras that we know are now unreachable or empty\n",
    "    if jira_name in INVALID_JIRAS:\n",
    "        print(f\"Skipping Issue Link Type info for {jira_name} (in INVALID_JIRAS).\")\n",
    "        continue\n",
    "\n",
    "    # Build the URL to get the information from\n",
    "    jira_issuelinktype_url = jira_data['jira_url'] + '/rest/api/2/issueLinkType'\n",
    "\n",
    "    try:\n",
    "        print(f\"Fetching Issue Link Type info for {jira_name} from {jira_issuelinktype_url}\")\n",
    "        response = requests.get(jira_issuelinktype_url, timeout=30) # Added timeout\n",
    "        response.raise_for_status() # Raise an exception for HTTP errors\n",
    "        # Get the issuelinktype definitions\n",
    "        data = response.json()\n",
    "        if 'issueLinkTypes' in data:\n",
    "            documented_issuelinktypes = {\n",
    "                issuelinktype['name']: issuelinktype\n",
    "                for issuelinktype in data['issueLinkTypes']\n",
    "            }\n",
    "            # Save the information\n",
    "            output_json[jira_name] = documented_issuelinktypes\n",
    "        else:\n",
    "            print(f\"⚠️ 'issueLinkTypes' key not found in response for {jira_name}. Response: {data}\")\n",
    "            output_json[jira_name] = {} # Save empty if key missing but request succeeded\n",
    "\n",
    "    except requests.exceptions.RequestException as e:\n",
    "        print(f\"❌ Error fetching Issue Link Type info for {jira_name}: {e}\")\n",
    "        continue\n",
    "    except json.JSONDecodeError as e:\n",
    "        print(f\"❌ Error decoding JSON for Issue Link Type info for {jira_name}: {e}\")\n",
    "        continue"
   ]
  },
  {
   "cell_type": "markdown",
   "id": "5246ff95-589a-4c8c-836c-c6a9ba920232",
   "metadata": {
    "heading_collapsed": "true",
    "tags": []
   },
   "source": [
    "### Download Jira Issue Field Information"
   ]
  },
  {
   "cell_type": "code",
   "execution_count": 19,
   "id": "352ea43c-d9c3-4816-a50f-323e5ba1f55e",
   "metadata": {
    "tags": []
   },
   "outputs": [
    {
     "name": "stdout",
     "output_type": "stream",
     "text": [
      "Fetching Field info for Apache from https://issues.apache.org/jira/rest/api/2/field\n",
      "Fetching Field info for Hyperledger from https://jira.hyperledger.org/rest/api/2/field\n",
      "❌ Error fetching Field info for Hyperledger: HTTPSConnectionPool(host='jira.hyperledger.org', port=443): Max retries exceeded with url: /rest/api/2/field (Caused by NameResolutionError(\"<urllib3.connection.HTTPSConnection object at 0x000002457DFA4BB0>: Failed to resolve 'jira.hyperledger.org' ([Errno 11001] getaddrinfo failed)\"))\n",
      "Fetching Field info for IntelDAOS from https://jira.hpdd.intel.com/rest/api/2/field\n",
      "❌ Error fetching Field info for IntelDAOS: HTTPSConnectionPool(host='jira.hpdd.intel.com', port=443): Max retries exceeded with url: /rest/api/2/field (Caused by SSLError(SSLCertVerificationError(1, \"[SSL: CERTIFICATE_VERIFY_FAILED] certificate verify failed: Hostname mismatch, certificate is not valid for 'jira.hpdd.intel.com'. (_ssl.c:997)\")))\n",
      "Fetching Field info for JFrog from https://jfrog.com/jira/rest/api/2/field\n",
      "❌ Error fetching Field info for JFrog: 403 Client Error: Forbidden for url: https://jfrog-int.atlassian.net/browse//jfrog.com/jira/rest/api/2/field\n",
      "Fetching Field info for Jira from https://jira.atlassian.com/rest/api/2/field\n",
      "Fetching Field info for JiraEcosystem from https://ecosystem.atlassian.net/rest/api/2/field\n",
      "Skipping Field info for MariaDB (in INVALID_JIRAS).\n",
      "Skipping Field info for Mindville (in INVALID_JIRAS).\n",
      "Fetching Field info for Mojang from https://bugs.mojang.com/rest/api/2/field\n",
      "❌ Error fetching Field info for Mojang: Expecting value: line 1 column 1 (char 0)\n",
      "Fetching Field info for MongoDB from https://jira.mongodb.org/rest/api/2/field\n",
      "Fetching Field info for Qt from https://bugreports.qt.io/rest/api/2/field\n",
      "Fetching Field info for RedHat from https://issues.redhat.com/rest/api/2/field\n",
      "Fetching Field info for Sakai from https://jira.sakaiproject.org/rest/api/2/field\n",
      "Fetching Field info for SecondLife from https://jira.secondlife.com/rest/api/2/field\n",
      "❌ Error fetching Field info for SecondLife: 403 Client Error: Forbidden for url: https://jira.secondlife.com/rest/api/2/field\n",
      "Fetching Field info for Sonatype from https://issues.sonatype.org/rest/api/2/field\n",
      "❌ Error fetching Field info for Sonatype: Expecting value: line 2 column 1 (char 1)\n",
      "Fetching Field info for Spring from https://jira.spring.io/rest/api/2/field\n",
      "❌ Error fetching Field info for Spring: Expecting value: line 1 column 1 (char 0)\n"
     ]
    }
   ],
   "source": [
    "jiras_fields_information = {}\n",
    "\n",
    "for jira_name, jira_data in jira_data_sources.items():\n",
    "    \n",
    "    # Ignore Jiras that we know are now unreachable or empty\n",
    "    if jira_name in INVALID_JIRAS:\n",
    "        print(f\"Skipping Field info for {jira_name} (in INVALID_JIRAS).\")\n",
    "        continue\n",
    "    \n",
    "    field_url = f\"{jira_data['jira_url']}/rest/api/2/field\"\n",
    "    try:\n",
    "        print(f\"Fetching Field info for {jira_name} from {field_url}\")\n",
    "        # Query Jira for field information\n",
    "        response = requests.get(field_url, timeout=30) # Added timeout\n",
    "        response.raise_for_status() # Raise an exception for HTTP errors\n",
    "        # Store result in JSON\n",
    "        jiras_fields_information[jira_name] = response.json()\n",
    "    except requests.exceptions.RequestException as e:\n",
    "        print(f\"❌ Error fetching Field info for {jira_name}: {e}\")\n",
    "        continue\n",
    "    except json.JSONDecodeError as e:\n",
    "        print(f\"❌ Error decoding JSON for Field info for {jira_name}: {e}\")\n",
    "        continue\n",
    "\n",
    "# Write JSON to file for later use\n",
    "with open('jira_field_information.json', 'w', encoding='utf-8') as json_file:\n",
    "    json.dump(jiras_fields_information, json_file, ensure_ascii=False, indent=4)"
   ]
  },
  {
   "cell_type": "markdown",
   "id": "dd6de073",
   "metadata": {
    "heading_collapsed": "true",
    "tags": []
   },
   "source": [
    "### Download Jira Data Commands"
   ]
  },
  {
   "cell_type": "code",
   "execution_count": 4,
   "id": "1a8094d8",
   "metadata": {
    "tags": []
   },
   "outputs": [],
   "source": [
    "async def fetch_json_with_retry(session, url, timeout_seconds, retries=5, backoff_factor=1, status_forcelist=None):\n",
    "    \"\"\"Helper function to fetch JSON with retries for aiohttp.\"\"\"\n",
    "    if status_forcelist is None:\n",
    "        status_forcelist = {429, 500, 502, 503, 504}\n",
    "    \n",
    "    last_exception = None\n",
    "    for attempt in range(retries):\n",
    "        try:\n",
    "            async with session.get(url, timeout=ClientTimeout(total=timeout_seconds)) as response:\n",
    "                if response.status in status_forcelist and attempt < retries - 1:\n",
    "                    last_exception = ClientResponseError(response.request_info, response.history, status=response.status, message=f\"Retryable status: {response.status}\", headers=response.headers)\n",
    "                    raise last_exception # Trigger retry\n",
    "                response.raise_for_status()  # Raise an exception for bad status codes (4xx or 5xx)\n",
    "                return await response.json()\n",
    "        except (ClientError, asyncio.TimeoutError, json.JSONDecodeError) as e:\n",
    "            last_exception = e\n",
    "            if attempt == retries - 1:\n",
    "                print(f\"Final attempt failed for URL {url}: {e}\")\n",
    "                raise  # Re-raise the last exception after all retries\n",
    "            \n",
    "            sleep_time = backoff_factor * (2 ** attempt)\n",
    "            print(f\"Request to {url} failed (attempt {attempt + 1}/{retries}): {e}. Retrying in {sleep_time}s...\")\n",
    "            await asyncio.sleep(sleep_time)\n",
    "    # This part should ideally not be reached if exceptions are handled correctly\n",
    "    if last_exception:\n",
    "        raise last_exception # Should have been raised in the loop\n",
    "    return None # Fallback, though retries should exhaust or succeed\n",
    "\n",
    "\n",
    "async def download_and_write_data_mongo(\n",
    "    jira_data_source,\n",
    "    num_desired_results = None,  # Leave as \"None\" to download all, otherwise specify a number\n",
    "    iteration_max = 250,  # Recommended to keep at or below 500\n",
    "    start_index = 0,  # This allows you to start back up from a different place\n",
    "    request_timeout = 30 # Timeout for individual requests in seconds\n",
    "    ):\n",
    "    \n",
    "    def build_url(base_url, start_index, iteration_max=100):\n",
    "        return (\n",
    "            base_url +\n",
    "            f\"/rest/api/2/search?\"\n",
    "            f\"jql=\"\n",
    "            f\"&ORDER%20BY%20created%20ASC\"\n",
    "            f\"&startAt={start_index}\"\n",
    "            f\"&maxResults={iteration_max}\"\n",
    "            f\"&expand=changelog\"\n",
    "            )\n",
    "    \n",
    "    collection = db[jira_data_source['name']] # Synchronous MongoDB client\n",
    "\n",
    "    # How many issues to collect before writing to MongoDB\n",
    "    num_issues_per_write = 10000\n",
    "    issues = []\n",
    "    issues_downloaded = 0\n",
    "    \n",
    "    async with aiohttp.ClientSession() as session:\n",
    "        # Available and requested number of results\n",
    "        try:\n",
    "            initial_url = build_url(jira_data_source['jira_url'], 0, 0)\n",
    "            initial_response_json = await fetch_json_with_retry(session, initial_url, request_timeout)\n",
    "            if initial_response_json is None or 'total' not in initial_response_json:\n",
    "                 print(f\"Could not fetch total number of results from {initial_url}. Response: {initial_response_json}\")\n",
    "                 return\n",
    "            num_available_results = initial_response_json['total']\n",
    "        except Exception as e:\n",
    "            print(f\"Error fetching total number of results: {e}\")\n",
    "            return\n",
    "\n",
    "        print(f'Number of Desired Results   : {num_desired_results if num_desired_results else \"All\"}')\n",
    "        print(f'Number of Available Results : {num_available_results}')\n",
    "        print('')\n",
    "\n",
    "        # Set the number of results to retrieve based on information from Jira server\n",
    "        if not num_desired_results:\n",
    "            num_remaining_results = num_available_results\n",
    "        else:\n",
    "            num_remaining_results = min(int(num_desired_results), num_available_results)\n",
    "        # Adjust remaining results based on their start index\n",
    "        num_remaining_results -= start_index\n",
    "\n",
    "        max_count_width = len(str(num_available_results)) + 1\n",
    "        print(f\"Total Remaining:{num_remaining_results:< {max_count_width}}\")\n",
    "        \n",
    "        while(num_remaining_results > 0):\n",
    "            start_time = time()\n",
    "            num_items_to_retrieve = min(iteration_max, num_remaining_results)\n",
    "            num_returned_issues = 0\n",
    "\n",
    "            url = build_url(jira_data_source['jira_url'], start_index, num_items_to_retrieve)\n",
    "            try:\n",
    "                response_json = await fetch_json_with_retry(session, url, request_timeout)\n",
    "                if response_json and 'issues' in response_json:\n",
    "                    issues.extend(response_json['issues'])\n",
    "                    num_returned_issues = len(response_json['issues'])\n",
    "                elif response_json:\n",
    "                    print(f\"Warning: 'issues' key not found in response from {url}. Response JSON: {response_json}\")\n",
    "                else:\n",
    "                    print(f\"Warning: Received no valid JSON response from {url} after retries.\")\n",
    "                    # This might indicate a persistent issue, break to avoid infinite loop if num_remaining_results isn't decreasing\n",
    "                    if num_items_to_retrieve > 0 : # Only break if we expected issues\n",
    "                        break\n",
    "\n",
    "\n",
    "            except Exception as e:\n",
    "                print(f\"Failed to fetch or process issues from {url} after retries: {e}\")\n",
    "                # Decide if you want to break or continue. Breaking if a fetch fails catastrophically.\n",
    "                if num_items_to_retrieve > 0: # Only break if we expected issues\n",
    "                    break \n",
    "\n",
    "            if num_returned_issues == 0 and num_items_to_retrieve > 0 and num_remaining_results > 0:\n",
    "                print(f\"Retrieved 0 issues from {url} when {num_items_to_retrieve} were requested. Start index: {start_index}. This might indicate an issue or end of data.\")\n",
    "                # If we consistently get 0 issues, we should break to prevent infinite loops.\n",
    "                # The write logic below and the main while condition will handle graceful exit.\n",
    "\n",
    "            num_remaining_results -= num_returned_issues\n",
    "            end_index = start_index + num_returned_issues - 1 if num_returned_issues > 0 else start_index\n",
    "            \n",
    "            print(\n",
    "                f\"Total Remaining:{num_remaining_results:< {max_count_width}}  \"\n",
    "                f\"Retrieved Items: {start_index:< {max_count_width}} - {end_index:< {max_count_width}} ({num_returned_issues} issues) \"\n",
    "                f\"Duration: {format_duration(start_time, time())}\")\n",
    "\n",
    "            start_index += num_returned_issues\n",
    "\n",
    "            if len(issues) >= num_issues_per_write or (num_remaining_results == 0 and len(issues) > 0) or (num_returned_issues == 0 and len(issues) > 0 and num_remaining_results > 0):\n",
    "                if len(issues) > 0:\n",
    "                    try:\n",
    "                        # Synchronous DB write\n",
    "                        collection.insert_many(issues)\n",
    "                        print(f\"... {len(issues)} issues written to database ...\")\n",
    "                        issues_downloaded += len(issues)\n",
    "                        issues = []\n",
    "                    except Exception as e:\n",
    "                        print(f\"Error writing issues to MongoDB: {e}\")\n",
    "                        # Decide on error handling: stop, or log and continue, potentially losing this batch.\n",
    "                        # For now, issues remain in memory; if next fetch is okay, they'll be written.\n",
    "                        # If this error is persistent, memory could fill.\n",
    "                elif num_remaining_results == 0:\n",
    "                    pass # No issues in buffer, and no more results remaining\n",
    "\n",
    "            if num_returned_issues == 0 and num_items_to_retrieve > 0 and num_remaining_results > 0 :\n",
    "                print(f'No issues returned in the last request (expected {num_items_to_retrieve}). Exiting download for {jira_data_source[\"name\"]}.')\n",
    "                if len(issues) > 0: # Attempt to write any remaining issues\n",
    "                    try:\n",
    "                        collection.insert_many(issues)\n",
    "                        print(f\"... Final batch of {len(issues)} issues written to database ...\")\n",
    "                        issues_downloaded += len(issues)\n",
    "                        issues = []\n",
    "                    except Exception as e:\n",
    "                        print(f\"Error writing final batch of issues to MongoDB: {e}\")\n",
    "                break # Exit the while loop\n",
    "\n",
    "    print('')\n",
    "    print(f\"Number of Downloaded Issues for {jira_data_source['name']}: {issues_downloaded}\")\n",
    "    if len(issues) > 0:\n",
    "        print(f\"Warning: {len(issues)} issues remain in memory and were not written to the database.\")\n"
   ]
  },
  {
   "cell_type": "code",
   "execution_count": 9,
   "id": "62249515",
   "metadata": {
    "tags": []
   },
   "outputs": [
    {
     "ename": "CancelledError",
     "evalue": "",
     "output_type": "error",
     "traceback": [
      "\u001b[1;31m---------------------------------------------------------------------------\u001b[0m",
      "\u001b[1;31mCancelledError\u001b[0m                            Traceback (most recent call last)",
      "Cell \u001b[1;32mIn[9], line 2\u001b[0m\n\u001b[0;32m      1\u001b[0m \u001b[38;5;66;03m# Last download time: 6h 47m\u001b[39;00m\n\u001b[1;32m----> 2\u001b[0m \u001b[38;5;28;01mawait\u001b[39;00m download_and_write_data_mongo(jira_data_sources[\u001b[38;5;124m'\u001b[39m\u001b[38;5;124mApache\u001b[39m\u001b[38;5;124m'\u001b[39m], num_desired_results\u001b[38;5;241m=\u001b[39m\u001b[38;5;241m1000\u001b[39m)\n",
      "Cell \u001b[1;32mIn[4], line 60\u001b[0m, in \u001b[0;36mdownload_and_write_data_mongo\u001b[1;34m(jira_data_source, num_desired_results, iteration_max, start_index, request_timeout)\u001b[0m\n\u001b[0;32m     58\u001b[0m \u001b[38;5;28;01mtry\u001b[39;00m:\n\u001b[0;32m     59\u001b[0m     initial_url \u001b[38;5;241m=\u001b[39m build_url(jira_data_source[\u001b[38;5;124m'\u001b[39m\u001b[38;5;124mjira_url\u001b[39m\u001b[38;5;124m'\u001b[39m], \u001b[38;5;241m0\u001b[39m, \u001b[38;5;241m0\u001b[39m)\n\u001b[1;32m---> 60\u001b[0m     initial_response_json \u001b[38;5;241m=\u001b[39m \u001b[38;5;28;01mawait\u001b[39;00m fetch_json_with_retry(session, initial_url, request_timeout)\n\u001b[0;32m     61\u001b[0m     \u001b[38;5;28;01mif\u001b[39;00m initial_response_json \u001b[38;5;129;01mis\u001b[39;00m \u001b[38;5;28;01mNone\u001b[39;00m \u001b[38;5;129;01mor\u001b[39;00m \u001b[38;5;124m'\u001b[39m\u001b[38;5;124mtotal\u001b[39m\u001b[38;5;124m'\u001b[39m \u001b[38;5;129;01mnot\u001b[39;00m \u001b[38;5;129;01min\u001b[39;00m initial_response_json:\n\u001b[0;32m     62\u001b[0m          \u001b[38;5;28mprint\u001b[39m(\u001b[38;5;124mf\u001b[39m\u001b[38;5;124m\"\u001b[39m\u001b[38;5;124mCould not fetch total number of results from \u001b[39m\u001b[38;5;132;01m{\u001b[39;00minitial_url\u001b[38;5;132;01m}\u001b[39;00m\u001b[38;5;124m. Response: \u001b[39m\u001b[38;5;132;01m{\u001b[39;00minitial_response_json\u001b[38;5;132;01m}\u001b[39;00m\u001b[38;5;124m\"\u001b[39m)\n",
      "Cell \u001b[1;32mIn[4], line 9\u001b[0m, in \u001b[0;36mfetch_json_with_retry\u001b[1;34m(session, url, timeout_seconds, retries, backoff_factor, status_forcelist)\u001b[0m\n\u001b[0;32m      7\u001b[0m \u001b[38;5;28;01mfor\u001b[39;00m attempt \u001b[38;5;129;01min\u001b[39;00m \u001b[38;5;28mrange\u001b[39m(retries):\n\u001b[0;32m      8\u001b[0m     \u001b[38;5;28;01mtry\u001b[39;00m:\n\u001b[1;32m----> 9\u001b[0m         \u001b[38;5;28;01masync\u001b[39;00m \u001b[38;5;28;01mwith\u001b[39;00m session\u001b[38;5;241m.\u001b[39mget(url, timeout\u001b[38;5;241m=\u001b[39mClientTimeout(total\u001b[38;5;241m=\u001b[39mtimeout_seconds)) \u001b[38;5;28;01mas\u001b[39;00m response:\n\u001b[0;32m     10\u001b[0m             \u001b[38;5;28;01mif\u001b[39;00m response\u001b[38;5;241m.\u001b[39mstatus \u001b[38;5;129;01min\u001b[39;00m status_forcelist \u001b[38;5;129;01mand\u001b[39;00m attempt \u001b[38;5;241m<\u001b[39m retries \u001b[38;5;241m-\u001b[39m \u001b[38;5;241m1\u001b[39m:\n\u001b[0;32m     11\u001b[0m                 last_exception \u001b[38;5;241m=\u001b[39m ClientResponseError(response\u001b[38;5;241m.\u001b[39mrequest_info, response\u001b[38;5;241m.\u001b[39mhistory, status\u001b[38;5;241m=\u001b[39mresponse\u001b[38;5;241m.\u001b[39mstatus, message\u001b[38;5;241m=\u001b[39m\u001b[38;5;124mf\u001b[39m\u001b[38;5;124m\"\u001b[39m\u001b[38;5;124mRetryable status: \u001b[39m\u001b[38;5;132;01m{\u001b[39;00mresponse\u001b[38;5;241m.\u001b[39mstatus\u001b[38;5;132;01m}\u001b[39;00m\u001b[38;5;124m\"\u001b[39m, headers\u001b[38;5;241m=\u001b[39mresponse\u001b[38;5;241m.\u001b[39mheaders)\n",
      "File \u001b[1;32mg:\\ThePublicJiraDataset\\.venv\\lib\\site-packages\\aiohttp\\client.py:1425\u001b[0m, in \u001b[0;36m_BaseRequestContextManager.__aenter__\u001b[1;34m(self)\u001b[0m\n\u001b[0;32m   1424\u001b[0m \u001b[38;5;28;01masync\u001b[39;00m \u001b[38;5;28;01mdef\u001b[39;00m\u001b[38;5;250m \u001b[39m\u001b[38;5;21m__aenter__\u001b[39m(\u001b[38;5;28mself\u001b[39m) \u001b[38;5;241m-\u001b[39m\u001b[38;5;241m>\u001b[39m _RetType:\n\u001b[1;32m-> 1425\u001b[0m     \u001b[38;5;28mself\u001b[39m\u001b[38;5;241m.\u001b[39m_resp: _RetType \u001b[38;5;241m=\u001b[39m \u001b[38;5;28;01mawait\u001b[39;00m \u001b[38;5;28mself\u001b[39m\u001b[38;5;241m.\u001b[39m_coro\n\u001b[0;32m   1426\u001b[0m     \u001b[38;5;28;01mreturn\u001b[39;00m \u001b[38;5;28;01mawait\u001b[39;00m \u001b[38;5;28mself\u001b[39m\u001b[38;5;241m.\u001b[39m_resp\u001b[38;5;241m.\u001b[39m\u001b[38;5;21m__aenter__\u001b[39m()\n",
      "File \u001b[1;32mg:\\ThePublicJiraDataset\\.venv\\lib\\site-packages\\aiohttp\\client.py:730\u001b[0m, in \u001b[0;36mClientSession._request\u001b[1;34m(self, method, str_or_url, params, data, json, cookies, headers, skip_auto_headers, auth, allow_redirects, max_redirects, compress, chunked, expect100, raise_for_status, read_until_eof, proxy, proxy_auth, timeout, verify_ssl, fingerprint, ssl_context, ssl, server_hostname, proxy_headers, trace_request_ctx, read_bufsize, auto_decompress, max_line_size, max_field_size)\u001b[0m\n\u001b[0;32m    728\u001b[0m resp \u001b[38;5;241m=\u001b[39m \u001b[38;5;28;01mawait\u001b[39;00m req\u001b[38;5;241m.\u001b[39msend(conn)\n\u001b[0;32m    729\u001b[0m \u001b[38;5;28;01mtry\u001b[39;00m:\n\u001b[1;32m--> 730\u001b[0m     \u001b[38;5;28;01mawait\u001b[39;00m resp\u001b[38;5;241m.\u001b[39mstart(conn)\n\u001b[0;32m    731\u001b[0m \u001b[38;5;28;01mexcept\u001b[39;00m \u001b[38;5;167;01mBaseException\u001b[39;00m:\n\u001b[0;32m    732\u001b[0m     resp\u001b[38;5;241m.\u001b[39mclose()\n",
      "File \u001b[1;32mg:\\ThePublicJiraDataset\\.venv\\lib\\site-packages\\aiohttp\\client_reqrep.py:1059\u001b[0m, in \u001b[0;36mClientResponse.start\u001b[1;34m(self, connection)\u001b[0m\n\u001b[0;32m   1057\u001b[0m \u001b[38;5;28;01mtry\u001b[39;00m:\n\u001b[0;32m   1058\u001b[0m     protocol \u001b[38;5;241m=\u001b[39m \u001b[38;5;28mself\u001b[39m\u001b[38;5;241m.\u001b[39m_protocol\n\u001b[1;32m-> 1059\u001b[0m     message, payload \u001b[38;5;241m=\u001b[39m \u001b[38;5;28;01mawait\u001b[39;00m protocol\u001b[38;5;241m.\u001b[39mread()  \u001b[38;5;66;03m# type: ignore[union-attr]\u001b[39;00m\n\u001b[0;32m   1060\u001b[0m \u001b[38;5;28;01mexcept\u001b[39;00m http\u001b[38;5;241m.\u001b[39mHttpProcessingError \u001b[38;5;28;01mas\u001b[39;00m exc:\n\u001b[0;32m   1061\u001b[0m     \u001b[38;5;28;01mraise\u001b[39;00m ClientResponseError(\n\u001b[0;32m   1062\u001b[0m         \u001b[38;5;28mself\u001b[39m\u001b[38;5;241m.\u001b[39mrequest_info,\n\u001b[0;32m   1063\u001b[0m         \u001b[38;5;28mself\u001b[39m\u001b[38;5;241m.\u001b[39mhistory,\n\u001b[1;32m   (...)\u001b[0m\n\u001b[0;32m   1066\u001b[0m         headers\u001b[38;5;241m=\u001b[39mexc\u001b[38;5;241m.\u001b[39mheaders,\n\u001b[0;32m   1067\u001b[0m     ) \u001b[38;5;28;01mfrom\u001b[39;00m\u001b[38;5;250m \u001b[39m\u001b[38;5;21;01mexc\u001b[39;00m\n",
      "File \u001b[1;32mg:\\ThePublicJiraDataset\\.venv\\lib\\site-packages\\aiohttp\\streams.py:672\u001b[0m, in \u001b[0;36mDataQueue.read\u001b[1;34m(self)\u001b[0m\n\u001b[0;32m    670\u001b[0m \u001b[38;5;28mself\u001b[39m\u001b[38;5;241m.\u001b[39m_waiter \u001b[38;5;241m=\u001b[39m \u001b[38;5;28mself\u001b[39m\u001b[38;5;241m.\u001b[39m_loop\u001b[38;5;241m.\u001b[39mcreate_future()\n\u001b[0;32m    671\u001b[0m \u001b[38;5;28;01mtry\u001b[39;00m:\n\u001b[1;32m--> 672\u001b[0m     \u001b[38;5;28;01mawait\u001b[39;00m \u001b[38;5;28mself\u001b[39m\u001b[38;5;241m.\u001b[39m_waiter\n\u001b[0;32m    673\u001b[0m \u001b[38;5;28;01mexcept\u001b[39;00m (asyncio\u001b[38;5;241m.\u001b[39mCancelledError, asyncio\u001b[38;5;241m.\u001b[39mTimeoutError):\n\u001b[0;32m    674\u001b[0m     \u001b[38;5;28mself\u001b[39m\u001b[38;5;241m.\u001b[39m_waiter \u001b[38;5;241m=\u001b[39m \u001b[38;5;28;01mNone\u001b[39;00m\n",
      "\u001b[1;31mCancelledError\u001b[0m: "
     ]
    }
   ],
   "source": [
    "# Last download time: 6h 47m\n",
    "await download_and_write_data_mongo(jira_data_sources['Apache'])"
   ]
  },
  {
   "cell_type": "code",
   "execution_count": null,
   "id": "a1e3d4ae",
   "metadata": {
    "tags": []
   },
   "outputs": [],
   "source": [
    "# Last download time: 0h 27m\n",
    "download_and_write_data_mongo(jira_data_sources['Hyperledger'])"
   ]
  },
  {
   "cell_type": "code",
   "execution_count": 12,
   "id": "a3f78ad1",
   "metadata": {
    "tags": []
   },
   "outputs": [
    {
     "ename": "SSLError",
     "evalue": "HTTPSConnectionPool(host='jira.hpdd.intel.com', port=443): Max retries exceeded with url: /rest/api/2/search?jql=&ORDER%20BY%20created%20ASC&startAt=0&maxResults=0&expand=changelog (Caused by SSLError(SSLCertVerificationError(1, \"[SSL: CERTIFICATE_VERIFY_FAILED] certificate verify failed: Hostname mismatch, certificate is not valid for 'jira.hpdd.intel.com'. (_ssl.c:997)\")))",
     "output_type": "error",
     "traceback": [
      "\u001b[1;31m---------------------------------------------------------------------------\u001b[0m",
      "\u001b[1;31mSSLCertVerificationError\u001b[0m                  Traceback (most recent call last)",
      "File \u001b[1;32mg:\\ThePublicJiraDataset\\.venv\\lib\\site-packages\\urllib3\\connectionpool.py:464\u001b[0m, in \u001b[0;36mHTTPConnectionPool._make_request\u001b[1;34m(self, conn, method, url, body, headers, retries, timeout, chunked, response_conn, preload_content, decode_content, enforce_content_length)\u001b[0m\n\u001b[0;32m    463\u001b[0m \u001b[38;5;28;01mtry\u001b[39;00m:\n\u001b[1;32m--> 464\u001b[0m     \u001b[38;5;28;43mself\u001b[39;49m\u001b[38;5;241;43m.\u001b[39;49m\u001b[43m_validate_conn\u001b[49m\u001b[43m(\u001b[49m\u001b[43mconn\u001b[49m\u001b[43m)\u001b[49m\n\u001b[0;32m    465\u001b[0m \u001b[38;5;28;01mexcept\u001b[39;00m (SocketTimeout, BaseSSLError) \u001b[38;5;28;01mas\u001b[39;00m e:\n",
      "File \u001b[1;32mg:\\ThePublicJiraDataset\\.venv\\lib\\site-packages\\urllib3\\connectionpool.py:1093\u001b[0m, in \u001b[0;36mHTTPSConnectionPool._validate_conn\u001b[1;34m(self, conn)\u001b[0m\n\u001b[0;32m   1092\u001b[0m \u001b[38;5;28;01mif\u001b[39;00m conn\u001b[38;5;241m.\u001b[39mis_closed:\n\u001b[1;32m-> 1093\u001b[0m     \u001b[43mconn\u001b[49m\u001b[38;5;241;43m.\u001b[39;49m\u001b[43mconnect\u001b[49m\u001b[43m(\u001b[49m\u001b[43m)\u001b[49m\n\u001b[0;32m   1095\u001b[0m \u001b[38;5;66;03m# TODO revise this, see https://github.com/urllib3/urllib3/issues/2791\u001b[39;00m\n",
      "File \u001b[1;32mg:\\ThePublicJiraDataset\\.venv\\lib\\site-packages\\urllib3\\connection.py:741\u001b[0m, in \u001b[0;36mHTTPSConnection.connect\u001b[1;34m(self)\u001b[0m\n\u001b[0;32m    739\u001b[0m server_hostname_rm_dot \u001b[38;5;241m=\u001b[39m server_hostname\u001b[38;5;241m.\u001b[39mrstrip(\u001b[38;5;124m\"\u001b[39m\u001b[38;5;124m.\u001b[39m\u001b[38;5;124m\"\u001b[39m)\n\u001b[1;32m--> 741\u001b[0m sock_and_verified \u001b[38;5;241m=\u001b[39m \u001b[43m_ssl_wrap_socket_and_match_hostname\u001b[49m\u001b[43m(\u001b[49m\n\u001b[0;32m    742\u001b[0m \u001b[43m    \u001b[49m\u001b[43msock\u001b[49m\u001b[38;5;241;43m=\u001b[39;49m\u001b[43msock\u001b[49m\u001b[43m,\u001b[49m\n\u001b[0;32m    743\u001b[0m \u001b[43m    \u001b[49m\u001b[43mcert_reqs\u001b[49m\u001b[38;5;241;43m=\u001b[39;49m\u001b[38;5;28;43mself\u001b[39;49m\u001b[38;5;241;43m.\u001b[39;49m\u001b[43mcert_reqs\u001b[49m\u001b[43m,\u001b[49m\n\u001b[0;32m    744\u001b[0m \u001b[43m    \u001b[49m\u001b[43mssl_version\u001b[49m\u001b[38;5;241;43m=\u001b[39;49m\u001b[38;5;28;43mself\u001b[39;49m\u001b[38;5;241;43m.\u001b[39;49m\u001b[43mssl_version\u001b[49m\u001b[43m,\u001b[49m\n\u001b[0;32m    745\u001b[0m \u001b[43m    \u001b[49m\u001b[43mssl_minimum_version\u001b[49m\u001b[38;5;241;43m=\u001b[39;49m\u001b[38;5;28;43mself\u001b[39;49m\u001b[38;5;241;43m.\u001b[39;49m\u001b[43mssl_minimum_version\u001b[49m\u001b[43m,\u001b[49m\n\u001b[0;32m    746\u001b[0m \u001b[43m    \u001b[49m\u001b[43mssl_maximum_version\u001b[49m\u001b[38;5;241;43m=\u001b[39;49m\u001b[38;5;28;43mself\u001b[39;49m\u001b[38;5;241;43m.\u001b[39;49m\u001b[43mssl_maximum_version\u001b[49m\u001b[43m,\u001b[49m\n\u001b[0;32m    747\u001b[0m \u001b[43m    \u001b[49m\u001b[43mca_certs\u001b[49m\u001b[38;5;241;43m=\u001b[39;49m\u001b[38;5;28;43mself\u001b[39;49m\u001b[38;5;241;43m.\u001b[39;49m\u001b[43mca_certs\u001b[49m\u001b[43m,\u001b[49m\n\u001b[0;32m    748\u001b[0m \u001b[43m    \u001b[49m\u001b[43mca_cert_dir\u001b[49m\u001b[38;5;241;43m=\u001b[39;49m\u001b[38;5;28;43mself\u001b[39;49m\u001b[38;5;241;43m.\u001b[39;49m\u001b[43mca_cert_dir\u001b[49m\u001b[43m,\u001b[49m\n\u001b[0;32m    749\u001b[0m \u001b[43m    \u001b[49m\u001b[43mca_cert_data\u001b[49m\u001b[38;5;241;43m=\u001b[39;49m\u001b[38;5;28;43mself\u001b[39;49m\u001b[38;5;241;43m.\u001b[39;49m\u001b[43mca_cert_data\u001b[49m\u001b[43m,\u001b[49m\n\u001b[0;32m    750\u001b[0m \u001b[43m    \u001b[49m\u001b[43mcert_file\u001b[49m\u001b[38;5;241;43m=\u001b[39;49m\u001b[38;5;28;43mself\u001b[39;49m\u001b[38;5;241;43m.\u001b[39;49m\u001b[43mcert_file\u001b[49m\u001b[43m,\u001b[49m\n\u001b[0;32m    751\u001b[0m \u001b[43m    \u001b[49m\u001b[43mkey_file\u001b[49m\u001b[38;5;241;43m=\u001b[39;49m\u001b[38;5;28;43mself\u001b[39;49m\u001b[38;5;241;43m.\u001b[39;49m\u001b[43mkey_file\u001b[49m\u001b[43m,\u001b[49m\n\u001b[0;32m    752\u001b[0m \u001b[43m    \u001b[49m\u001b[43mkey_password\u001b[49m\u001b[38;5;241;43m=\u001b[39;49m\u001b[38;5;28;43mself\u001b[39;49m\u001b[38;5;241;43m.\u001b[39;49m\u001b[43mkey_password\u001b[49m\u001b[43m,\u001b[49m\n\u001b[0;32m    753\u001b[0m \u001b[43m    \u001b[49m\u001b[43mserver_hostname\u001b[49m\u001b[38;5;241;43m=\u001b[39;49m\u001b[43mserver_hostname_rm_dot\u001b[49m\u001b[43m,\u001b[49m\n\u001b[0;32m    754\u001b[0m \u001b[43m    \u001b[49m\u001b[43mssl_context\u001b[49m\u001b[38;5;241;43m=\u001b[39;49m\u001b[38;5;28;43mself\u001b[39;49m\u001b[38;5;241;43m.\u001b[39;49m\u001b[43mssl_context\u001b[49m\u001b[43m,\u001b[49m\n\u001b[0;32m    755\u001b[0m \u001b[43m    \u001b[49m\u001b[43mtls_in_tls\u001b[49m\u001b[38;5;241;43m=\u001b[39;49m\u001b[43mtls_in_tls\u001b[49m\u001b[43m,\u001b[49m\n\u001b[0;32m    756\u001b[0m \u001b[43m    \u001b[49m\u001b[43massert_hostname\u001b[49m\u001b[38;5;241;43m=\u001b[39;49m\u001b[38;5;28;43mself\u001b[39;49m\u001b[38;5;241;43m.\u001b[39;49m\u001b[43massert_hostname\u001b[49m\u001b[43m,\u001b[49m\n\u001b[0;32m    757\u001b[0m \u001b[43m    \u001b[49m\u001b[43massert_fingerprint\u001b[49m\u001b[38;5;241;43m=\u001b[39;49m\u001b[38;5;28;43mself\u001b[39;49m\u001b[38;5;241;43m.\u001b[39;49m\u001b[43massert_fingerprint\u001b[49m\u001b[43m,\u001b[49m\n\u001b[0;32m    758\u001b[0m \u001b[43m\u001b[49m\u001b[43m)\u001b[49m\n\u001b[0;32m    759\u001b[0m \u001b[38;5;28mself\u001b[39m\u001b[38;5;241m.\u001b[39msock \u001b[38;5;241m=\u001b[39m sock_and_verified\u001b[38;5;241m.\u001b[39msocket\n",
      "File \u001b[1;32mg:\\ThePublicJiraDataset\\.venv\\lib\\site-packages\\urllib3\\connection.py:920\u001b[0m, in \u001b[0;36m_ssl_wrap_socket_and_match_hostname\u001b[1;34m(sock, cert_reqs, ssl_version, ssl_minimum_version, ssl_maximum_version, cert_file, key_file, key_password, ca_certs, ca_cert_dir, ca_cert_data, assert_hostname, assert_fingerprint, server_hostname, ssl_context, tls_in_tls)\u001b[0m\n\u001b[0;32m    918\u001b[0m         server_hostname \u001b[38;5;241m=\u001b[39m normalized\n\u001b[1;32m--> 920\u001b[0m ssl_sock \u001b[38;5;241m=\u001b[39m \u001b[43mssl_wrap_socket\u001b[49m\u001b[43m(\u001b[49m\n\u001b[0;32m    921\u001b[0m \u001b[43m    \u001b[49m\u001b[43msock\u001b[49m\u001b[38;5;241;43m=\u001b[39;49m\u001b[43msock\u001b[49m\u001b[43m,\u001b[49m\n\u001b[0;32m    922\u001b[0m \u001b[43m    \u001b[49m\u001b[43mkeyfile\u001b[49m\u001b[38;5;241;43m=\u001b[39;49m\u001b[43mkey_file\u001b[49m\u001b[43m,\u001b[49m\n\u001b[0;32m    923\u001b[0m \u001b[43m    \u001b[49m\u001b[43mcertfile\u001b[49m\u001b[38;5;241;43m=\u001b[39;49m\u001b[43mcert_file\u001b[49m\u001b[43m,\u001b[49m\n\u001b[0;32m    924\u001b[0m \u001b[43m    \u001b[49m\u001b[43mkey_password\u001b[49m\u001b[38;5;241;43m=\u001b[39;49m\u001b[43mkey_password\u001b[49m\u001b[43m,\u001b[49m\n\u001b[0;32m    925\u001b[0m \u001b[43m    \u001b[49m\u001b[43mca_certs\u001b[49m\u001b[38;5;241;43m=\u001b[39;49m\u001b[43mca_certs\u001b[49m\u001b[43m,\u001b[49m\n\u001b[0;32m    926\u001b[0m \u001b[43m    \u001b[49m\u001b[43mca_cert_dir\u001b[49m\u001b[38;5;241;43m=\u001b[39;49m\u001b[43mca_cert_dir\u001b[49m\u001b[43m,\u001b[49m\n\u001b[0;32m    927\u001b[0m \u001b[43m    \u001b[49m\u001b[43mca_cert_data\u001b[49m\u001b[38;5;241;43m=\u001b[39;49m\u001b[43mca_cert_data\u001b[49m\u001b[43m,\u001b[49m\n\u001b[0;32m    928\u001b[0m \u001b[43m    \u001b[49m\u001b[43mserver_hostname\u001b[49m\u001b[38;5;241;43m=\u001b[39;49m\u001b[43mserver_hostname\u001b[49m\u001b[43m,\u001b[49m\n\u001b[0;32m    929\u001b[0m \u001b[43m    \u001b[49m\u001b[43mssl_context\u001b[49m\u001b[38;5;241;43m=\u001b[39;49m\u001b[43mcontext\u001b[49m\u001b[43m,\u001b[49m\n\u001b[0;32m    930\u001b[0m \u001b[43m    \u001b[49m\u001b[43mtls_in_tls\u001b[49m\u001b[38;5;241;43m=\u001b[39;49m\u001b[43mtls_in_tls\u001b[49m\u001b[43m,\u001b[49m\n\u001b[0;32m    931\u001b[0m \u001b[43m\u001b[49m\u001b[43m)\u001b[49m\n\u001b[0;32m    933\u001b[0m \u001b[38;5;28;01mtry\u001b[39;00m:\n",
      "File \u001b[1;32mg:\\ThePublicJiraDataset\\.venv\\lib\\site-packages\\urllib3\\util\\ssl_.py:480\u001b[0m, in \u001b[0;36mssl_wrap_socket\u001b[1;34m(sock, keyfile, certfile, cert_reqs, ca_certs, server_hostname, ssl_version, ciphers, ssl_context, ca_cert_dir, key_password, ca_cert_data, tls_in_tls)\u001b[0m\n\u001b[0;32m    478\u001b[0m context\u001b[38;5;241m.\u001b[39mset_alpn_protocols(ALPN_PROTOCOLS)\n\u001b[1;32m--> 480\u001b[0m ssl_sock \u001b[38;5;241m=\u001b[39m \u001b[43m_ssl_wrap_socket_impl\u001b[49m\u001b[43m(\u001b[49m\u001b[43msock\u001b[49m\u001b[43m,\u001b[49m\u001b[43m \u001b[49m\u001b[43mcontext\u001b[49m\u001b[43m,\u001b[49m\u001b[43m \u001b[49m\u001b[43mtls_in_tls\u001b[49m\u001b[43m,\u001b[49m\u001b[43m \u001b[49m\u001b[43mserver_hostname\u001b[49m\u001b[43m)\u001b[49m\n\u001b[0;32m    481\u001b[0m \u001b[38;5;28;01mreturn\u001b[39;00m ssl_sock\n",
      "File \u001b[1;32mg:\\ThePublicJiraDataset\\.venv\\lib\\site-packages\\urllib3\\util\\ssl_.py:524\u001b[0m, in \u001b[0;36m_ssl_wrap_socket_impl\u001b[1;34m(sock, ssl_context, tls_in_tls, server_hostname)\u001b[0m\n\u001b[0;32m    522\u001b[0m     \u001b[38;5;28;01mreturn\u001b[39;00m SSLTransport(sock, ssl_context, server_hostname)\n\u001b[1;32m--> 524\u001b[0m \u001b[38;5;28;01mreturn\u001b[39;00m \u001b[43mssl_context\u001b[49m\u001b[38;5;241;43m.\u001b[39;49m\u001b[43mwrap_socket\u001b[49m\u001b[43m(\u001b[49m\u001b[43msock\u001b[49m\u001b[43m,\u001b[49m\u001b[43m \u001b[49m\u001b[43mserver_hostname\u001b[49m\u001b[38;5;241;43m=\u001b[39;49m\u001b[43mserver_hostname\u001b[49m\u001b[43m)\u001b[49m\n",
      "File \u001b[1;32m~\\AppData\\Local\\Programs\\Python\\Python310\\lib\\ssl.py:513\u001b[0m, in \u001b[0;36mSSLContext.wrap_socket\u001b[1;34m(self, sock, server_side, do_handshake_on_connect, suppress_ragged_eofs, server_hostname, session)\u001b[0m\n\u001b[0;32m    507\u001b[0m \u001b[38;5;28;01mdef\u001b[39;00m\u001b[38;5;250m \u001b[39m\u001b[38;5;21mwrap_socket\u001b[39m(\u001b[38;5;28mself\u001b[39m, sock, server_side\u001b[38;5;241m=\u001b[39m\u001b[38;5;28;01mFalse\u001b[39;00m,\n\u001b[0;32m    508\u001b[0m                 do_handshake_on_connect\u001b[38;5;241m=\u001b[39m\u001b[38;5;28;01mTrue\u001b[39;00m,\n\u001b[0;32m    509\u001b[0m                 suppress_ragged_eofs\u001b[38;5;241m=\u001b[39m\u001b[38;5;28;01mTrue\u001b[39;00m,\n\u001b[0;32m    510\u001b[0m                 server_hostname\u001b[38;5;241m=\u001b[39m\u001b[38;5;28;01mNone\u001b[39;00m, session\u001b[38;5;241m=\u001b[39m\u001b[38;5;28;01mNone\u001b[39;00m):\n\u001b[0;32m    511\u001b[0m     \u001b[38;5;66;03m# SSLSocket class handles server_hostname encoding before it calls\u001b[39;00m\n\u001b[0;32m    512\u001b[0m     \u001b[38;5;66;03m# ctx._wrap_socket()\u001b[39;00m\n\u001b[1;32m--> 513\u001b[0m     \u001b[38;5;28;01mreturn\u001b[39;00m \u001b[38;5;28;43mself\u001b[39;49m\u001b[38;5;241;43m.\u001b[39;49m\u001b[43msslsocket_class\u001b[49m\u001b[38;5;241;43m.\u001b[39;49m\u001b[43m_create\u001b[49m\u001b[43m(\u001b[49m\n\u001b[0;32m    514\u001b[0m \u001b[43m        \u001b[49m\u001b[43msock\u001b[49m\u001b[38;5;241;43m=\u001b[39;49m\u001b[43msock\u001b[49m\u001b[43m,\u001b[49m\n\u001b[0;32m    515\u001b[0m \u001b[43m        \u001b[49m\u001b[43mserver_side\u001b[49m\u001b[38;5;241;43m=\u001b[39;49m\u001b[43mserver_side\u001b[49m\u001b[43m,\u001b[49m\n\u001b[0;32m    516\u001b[0m \u001b[43m        \u001b[49m\u001b[43mdo_handshake_on_connect\u001b[49m\u001b[38;5;241;43m=\u001b[39;49m\u001b[43mdo_handshake_on_connect\u001b[49m\u001b[43m,\u001b[49m\n\u001b[0;32m    517\u001b[0m \u001b[43m        \u001b[49m\u001b[43msuppress_ragged_eofs\u001b[49m\u001b[38;5;241;43m=\u001b[39;49m\u001b[43msuppress_ragged_eofs\u001b[49m\u001b[43m,\u001b[49m\n\u001b[0;32m    518\u001b[0m \u001b[43m        \u001b[49m\u001b[43mserver_hostname\u001b[49m\u001b[38;5;241;43m=\u001b[39;49m\u001b[43mserver_hostname\u001b[49m\u001b[43m,\u001b[49m\n\u001b[0;32m    519\u001b[0m \u001b[43m        \u001b[49m\u001b[43mcontext\u001b[49m\u001b[38;5;241;43m=\u001b[39;49m\u001b[38;5;28;43mself\u001b[39;49m\u001b[43m,\u001b[49m\n\u001b[0;32m    520\u001b[0m \u001b[43m        \u001b[49m\u001b[43msession\u001b[49m\u001b[38;5;241;43m=\u001b[39;49m\u001b[43msession\u001b[49m\n\u001b[0;32m    521\u001b[0m \u001b[43m    \u001b[49m\u001b[43m)\u001b[49m\n",
      "File \u001b[1;32m~\\AppData\\Local\\Programs\\Python\\Python310\\lib\\ssl.py:1071\u001b[0m, in \u001b[0;36mSSLSocket._create\u001b[1;34m(cls, sock, server_side, do_handshake_on_connect, suppress_ragged_eofs, server_hostname, context, session)\u001b[0m\n\u001b[0;32m   1070\u001b[0m             \u001b[38;5;28;01mraise\u001b[39;00m \u001b[38;5;167;01mValueError\u001b[39;00m(\u001b[38;5;124m\"\u001b[39m\u001b[38;5;124mdo_handshake_on_connect should not be specified for non-blocking sockets\u001b[39m\u001b[38;5;124m\"\u001b[39m)\n\u001b[1;32m-> 1071\u001b[0m         \u001b[38;5;28;43mself\u001b[39;49m\u001b[38;5;241;43m.\u001b[39;49m\u001b[43mdo_handshake\u001b[49m\u001b[43m(\u001b[49m\u001b[43m)\u001b[49m\n\u001b[0;32m   1072\u001b[0m \u001b[38;5;28;01mexcept\u001b[39;00m (\u001b[38;5;167;01mOSError\u001b[39;00m, \u001b[38;5;167;01mValueError\u001b[39;00m):\n",
      "File \u001b[1;32m~\\AppData\\Local\\Programs\\Python\\Python310\\lib\\ssl.py:1342\u001b[0m, in \u001b[0;36mSSLSocket.do_handshake\u001b[1;34m(self, block)\u001b[0m\n\u001b[0;32m   1341\u001b[0m         \u001b[38;5;28mself\u001b[39m\u001b[38;5;241m.\u001b[39msettimeout(\u001b[38;5;28;01mNone\u001b[39;00m)\n\u001b[1;32m-> 1342\u001b[0m     \u001b[38;5;28;43mself\u001b[39;49m\u001b[38;5;241;43m.\u001b[39;49m\u001b[43m_sslobj\u001b[49m\u001b[38;5;241;43m.\u001b[39;49m\u001b[43mdo_handshake\u001b[49m\u001b[43m(\u001b[49m\u001b[43m)\u001b[49m\n\u001b[0;32m   1343\u001b[0m \u001b[38;5;28;01mfinally\u001b[39;00m:\n",
      "\u001b[1;31mSSLCertVerificationError\u001b[0m: [SSL: CERTIFICATE_VERIFY_FAILED] certificate verify failed: Hostname mismatch, certificate is not valid for 'jira.hpdd.intel.com'. (_ssl.c:997)",
      "\nDuring handling of the above exception, another exception occurred:\n",
      "\u001b[1;31mSSLError\u001b[0m                                  Traceback (most recent call last)",
      "File \u001b[1;32mg:\\ThePublicJiraDataset\\.venv\\lib\\site-packages\\urllib3\\connectionpool.py:787\u001b[0m, in \u001b[0;36mHTTPConnectionPool.urlopen\u001b[1;34m(self, method, url, body, headers, retries, redirect, assert_same_host, timeout, pool_timeout, release_conn, chunked, body_pos, preload_content, decode_content, **response_kw)\u001b[0m\n\u001b[0;32m    786\u001b[0m \u001b[38;5;66;03m# Make the request on the HTTPConnection object\u001b[39;00m\n\u001b[1;32m--> 787\u001b[0m response \u001b[38;5;241m=\u001b[39m \u001b[38;5;28mself\u001b[39m\u001b[38;5;241m.\u001b[39m_make_request(\n\u001b[0;32m    788\u001b[0m     conn,\n\u001b[0;32m    789\u001b[0m     method,\n\u001b[0;32m    790\u001b[0m     url,\n\u001b[0;32m    791\u001b[0m     timeout\u001b[38;5;241m=\u001b[39mtimeout_obj,\n\u001b[0;32m    792\u001b[0m     body\u001b[38;5;241m=\u001b[39mbody,\n\u001b[0;32m    793\u001b[0m     headers\u001b[38;5;241m=\u001b[39mheaders,\n\u001b[0;32m    794\u001b[0m     chunked\u001b[38;5;241m=\u001b[39mchunked,\n\u001b[0;32m    795\u001b[0m     retries\u001b[38;5;241m=\u001b[39mretries,\n\u001b[0;32m    796\u001b[0m     response_conn\u001b[38;5;241m=\u001b[39mresponse_conn,\n\u001b[0;32m    797\u001b[0m     preload_content\u001b[38;5;241m=\u001b[39mpreload_content,\n\u001b[0;32m    798\u001b[0m     decode_content\u001b[38;5;241m=\u001b[39mdecode_content,\n\u001b[0;32m    799\u001b[0m     \u001b[38;5;241m*\u001b[39m\u001b[38;5;241m*\u001b[39mresponse_kw,\n\u001b[0;32m    800\u001b[0m )\n\u001b[0;32m    802\u001b[0m \u001b[38;5;66;03m# Everything went great!\u001b[39;00m\n",
      "File \u001b[1;32mg:\\ThePublicJiraDataset\\.venv\\lib\\site-packages\\urllib3\\connectionpool.py:488\u001b[0m, in \u001b[0;36mHTTPConnectionPool._make_request\u001b[1;34m(self, conn, method, url, body, headers, retries, timeout, chunked, response_conn, preload_content, decode_content, enforce_content_length)\u001b[0m\n\u001b[0;32m    487\u001b[0m         new_e \u001b[38;5;241m=\u001b[39m _wrap_proxy_error(new_e, conn\u001b[38;5;241m.\u001b[39mproxy\u001b[38;5;241m.\u001b[39mscheme)\n\u001b[1;32m--> 488\u001b[0m     \u001b[38;5;28;01mraise\u001b[39;00m new_e\n\u001b[0;32m    490\u001b[0m \u001b[38;5;66;03m# conn.request() calls http.client.*.request, not the method in\u001b[39;00m\n\u001b[0;32m    491\u001b[0m \u001b[38;5;66;03m# urllib3.request. It also calls makefile (recv) on the socket.\u001b[39;00m\n",
      "\u001b[1;31mSSLError\u001b[0m: [SSL: CERTIFICATE_VERIFY_FAILED] certificate verify failed: Hostname mismatch, certificate is not valid for 'jira.hpdd.intel.com'. (_ssl.c:997)",
      "\nThe above exception was the direct cause of the following exception:\n",
      "\u001b[1;31mMaxRetryError\u001b[0m                             Traceback (most recent call last)",
      "File \u001b[1;32mg:\\ThePublicJiraDataset\\.venv\\lib\\site-packages\\requests\\adapters.py:667\u001b[0m, in \u001b[0;36mHTTPAdapter.send\u001b[1;34m(self, request, stream, timeout, verify, cert, proxies)\u001b[0m\n\u001b[0;32m    666\u001b[0m \u001b[38;5;28;01mtry\u001b[39;00m:\n\u001b[1;32m--> 667\u001b[0m     resp \u001b[38;5;241m=\u001b[39m \u001b[43mconn\u001b[49m\u001b[38;5;241;43m.\u001b[39;49m\u001b[43murlopen\u001b[49m\u001b[43m(\u001b[49m\n\u001b[0;32m    668\u001b[0m \u001b[43m        \u001b[49m\u001b[43mmethod\u001b[49m\u001b[38;5;241;43m=\u001b[39;49m\u001b[43mrequest\u001b[49m\u001b[38;5;241;43m.\u001b[39;49m\u001b[43mmethod\u001b[49m\u001b[43m,\u001b[49m\n\u001b[0;32m    669\u001b[0m \u001b[43m        \u001b[49m\u001b[43murl\u001b[49m\u001b[38;5;241;43m=\u001b[39;49m\u001b[43murl\u001b[49m\u001b[43m,\u001b[49m\n\u001b[0;32m    670\u001b[0m \u001b[43m        \u001b[49m\u001b[43mbody\u001b[49m\u001b[38;5;241;43m=\u001b[39;49m\u001b[43mrequest\u001b[49m\u001b[38;5;241;43m.\u001b[39;49m\u001b[43mbody\u001b[49m\u001b[43m,\u001b[49m\n\u001b[0;32m    671\u001b[0m \u001b[43m        \u001b[49m\u001b[43mheaders\u001b[49m\u001b[38;5;241;43m=\u001b[39;49m\u001b[43mrequest\u001b[49m\u001b[38;5;241;43m.\u001b[39;49m\u001b[43mheaders\u001b[49m\u001b[43m,\u001b[49m\n\u001b[0;32m    672\u001b[0m \u001b[43m        \u001b[49m\u001b[43mredirect\u001b[49m\u001b[38;5;241;43m=\u001b[39;49m\u001b[38;5;28;43;01mFalse\u001b[39;49;00m\u001b[43m,\u001b[49m\n\u001b[0;32m    673\u001b[0m \u001b[43m        \u001b[49m\u001b[43massert_same_host\u001b[49m\u001b[38;5;241;43m=\u001b[39;49m\u001b[38;5;28;43;01mFalse\u001b[39;49;00m\u001b[43m,\u001b[49m\n\u001b[0;32m    674\u001b[0m \u001b[43m        \u001b[49m\u001b[43mpreload_content\u001b[49m\u001b[38;5;241;43m=\u001b[39;49m\u001b[38;5;28;43;01mFalse\u001b[39;49;00m\u001b[43m,\u001b[49m\n\u001b[0;32m    675\u001b[0m \u001b[43m        \u001b[49m\u001b[43mdecode_content\u001b[49m\u001b[38;5;241;43m=\u001b[39;49m\u001b[38;5;28;43;01mFalse\u001b[39;49;00m\u001b[43m,\u001b[49m\n\u001b[0;32m    676\u001b[0m \u001b[43m        \u001b[49m\u001b[43mretries\u001b[49m\u001b[38;5;241;43m=\u001b[39;49m\u001b[38;5;28;43mself\u001b[39;49m\u001b[38;5;241;43m.\u001b[39;49m\u001b[43mmax_retries\u001b[49m\u001b[43m,\u001b[49m\n\u001b[0;32m    677\u001b[0m \u001b[43m        \u001b[49m\u001b[43mtimeout\u001b[49m\u001b[38;5;241;43m=\u001b[39;49m\u001b[43mtimeout\u001b[49m\u001b[43m,\u001b[49m\n\u001b[0;32m    678\u001b[0m \u001b[43m        \u001b[49m\u001b[43mchunked\u001b[49m\u001b[38;5;241;43m=\u001b[39;49m\u001b[43mchunked\u001b[49m\u001b[43m,\u001b[49m\n\u001b[0;32m    679\u001b[0m \u001b[43m    \u001b[49m\u001b[43m)\u001b[49m\n\u001b[0;32m    681\u001b[0m \u001b[38;5;28;01mexcept\u001b[39;00m (ProtocolError, \u001b[38;5;167;01mOSError\u001b[39;00m) \u001b[38;5;28;01mas\u001b[39;00m err:\n",
      "File \u001b[1;32mg:\\ThePublicJiraDataset\\.venv\\lib\\site-packages\\urllib3\\connectionpool.py:841\u001b[0m, in \u001b[0;36mHTTPConnectionPool.urlopen\u001b[1;34m(self, method, url, body, headers, retries, redirect, assert_same_host, timeout, pool_timeout, release_conn, chunked, body_pos, preload_content, decode_content, **response_kw)\u001b[0m\n\u001b[0;32m    839\u001b[0m     new_e \u001b[38;5;241m=\u001b[39m ProtocolError(\u001b[38;5;124m\"\u001b[39m\u001b[38;5;124mConnection aborted.\u001b[39m\u001b[38;5;124m\"\u001b[39m, new_e)\n\u001b[1;32m--> 841\u001b[0m retries \u001b[38;5;241m=\u001b[39m \u001b[43mretries\u001b[49m\u001b[38;5;241;43m.\u001b[39;49m\u001b[43mincrement\u001b[49m\u001b[43m(\u001b[49m\n\u001b[0;32m    842\u001b[0m \u001b[43m    \u001b[49m\u001b[43mmethod\u001b[49m\u001b[43m,\u001b[49m\u001b[43m \u001b[49m\u001b[43murl\u001b[49m\u001b[43m,\u001b[49m\u001b[43m \u001b[49m\u001b[43merror\u001b[49m\u001b[38;5;241;43m=\u001b[39;49m\u001b[43mnew_e\u001b[49m\u001b[43m,\u001b[49m\u001b[43m \u001b[49m\u001b[43m_pool\u001b[49m\u001b[38;5;241;43m=\u001b[39;49m\u001b[38;5;28;43mself\u001b[39;49m\u001b[43m,\u001b[49m\u001b[43m \u001b[49m\u001b[43m_stacktrace\u001b[49m\u001b[38;5;241;43m=\u001b[39;49m\u001b[43msys\u001b[49m\u001b[38;5;241;43m.\u001b[39;49m\u001b[43mexc_info\u001b[49m\u001b[43m(\u001b[49m\u001b[43m)\u001b[49m\u001b[43m[\u001b[49m\u001b[38;5;241;43m2\u001b[39;49m\u001b[43m]\u001b[49m\n\u001b[0;32m    843\u001b[0m \u001b[43m\u001b[49m\u001b[43m)\u001b[49m\n\u001b[0;32m    844\u001b[0m retries\u001b[38;5;241m.\u001b[39msleep()\n",
      "File \u001b[1;32mg:\\ThePublicJiraDataset\\.venv\\lib\\site-packages\\urllib3\\util\\retry.py:519\u001b[0m, in \u001b[0;36mRetry.increment\u001b[1;34m(self, method, url, response, error, _pool, _stacktrace)\u001b[0m\n\u001b[0;32m    518\u001b[0m     reason \u001b[38;5;241m=\u001b[39m error \u001b[38;5;129;01mor\u001b[39;00m ResponseError(cause)\n\u001b[1;32m--> 519\u001b[0m     \u001b[38;5;28;01mraise\u001b[39;00m MaxRetryError(_pool, url, reason) \u001b[38;5;28;01mfrom\u001b[39;00m\u001b[38;5;250m \u001b[39m\u001b[38;5;21;01mreason\u001b[39;00m  \u001b[38;5;66;03m# type: ignore[arg-type]\u001b[39;00m\n\u001b[0;32m    521\u001b[0m log\u001b[38;5;241m.\u001b[39mdebug(\u001b[38;5;124m\"\u001b[39m\u001b[38;5;124mIncremented Retry for (url=\u001b[39m\u001b[38;5;124m'\u001b[39m\u001b[38;5;132;01m%s\u001b[39;00m\u001b[38;5;124m'\u001b[39m\u001b[38;5;124m): \u001b[39m\u001b[38;5;132;01m%r\u001b[39;00m\u001b[38;5;124m\"\u001b[39m, url, new_retry)\n",
      "\u001b[1;31mMaxRetryError\u001b[0m: HTTPSConnectionPool(host='jira.hpdd.intel.com', port=443): Max retries exceeded with url: /rest/api/2/search?jql=&ORDER%20BY%20created%20ASC&startAt=0&maxResults=0&expand=changelog (Caused by SSLError(SSLCertVerificationError(1, \"[SSL: CERTIFICATE_VERIFY_FAILED] certificate verify failed: Hostname mismatch, certificate is not valid for 'jira.hpdd.intel.com'. (_ssl.c:997)\")))",
      "\nDuring handling of the above exception, another exception occurred:\n",
      "\u001b[1;31mSSLError\u001b[0m                                  Traceback (most recent call last)",
      "Cell \u001b[1;32mIn[12], line 2\u001b[0m\n\u001b[0;32m      1\u001b[0m \u001b[38;5;66;03m# Last download time: 0h 5m\u001b[39;00m\n\u001b[1;32m----> 2\u001b[0m \u001b[43mdownload_and_write_data_mongo\u001b[49m\u001b[43m(\u001b[49m\u001b[43mjira_data_sources\u001b[49m\u001b[43m[\u001b[49m\u001b[38;5;124;43m'\u001b[39;49m\u001b[38;5;124;43mIntelDAOS\u001b[39;49m\u001b[38;5;124;43m'\u001b[39;49m\u001b[43m]\u001b[49m\u001b[43m)\u001b[49m\n",
      "Cell \u001b[1;32mIn[9], line 33\u001b[0m, in \u001b[0;36mdownload_and_write_data_mongo\u001b[1;34m(jira_data_source, num_desired_results, iteration_max, start_index)\u001b[0m\n\u001b[0;32m     30\u001b[0m issues \u001b[38;5;241m=\u001b[39m []\n\u001b[0;32m     32\u001b[0m \u001b[38;5;66;03m# Available and requested number of results\u001b[39;00m\n\u001b[1;32m---> 33\u001b[0m num_available_results \u001b[38;5;241m=\u001b[39m \u001b[43mrequests\u001b[49m\u001b[38;5;241;43m.\u001b[39;49m\u001b[43mget\u001b[49m\u001b[43m(\u001b[49m\u001b[43mbuild_url\u001b[49m\u001b[43m(\u001b[49m\u001b[43mjira_data_source\u001b[49m\u001b[43m[\u001b[49m\u001b[38;5;124;43m'\u001b[39;49m\u001b[38;5;124;43mjira_url\u001b[39;49m\u001b[38;5;124;43m'\u001b[39;49m\u001b[43m]\u001b[49m\u001b[43m,\u001b[49m\u001b[43m \u001b[49m\u001b[38;5;241;43m0\u001b[39;49m\u001b[43m,\u001b[49m\u001b[38;5;241;43m0\u001b[39;49m\u001b[43m)\u001b[49m\u001b[43m)\u001b[49m\u001b[38;5;241m.\u001b[39mjson()[\u001b[38;5;124m'\u001b[39m\u001b[38;5;124mtotal\u001b[39m\u001b[38;5;124m'\u001b[39m]\n\u001b[0;32m     34\u001b[0m \u001b[38;5;28mprint\u001b[39m(\u001b[38;5;124mf\u001b[39m\u001b[38;5;124m'\u001b[39m\u001b[38;5;124mNumber of Desired Results   : \u001b[39m\u001b[38;5;132;01m{\u001b[39;00mnum_desired_results\u001b[38;5;250m \u001b[39m\u001b[38;5;28;01mif\u001b[39;00m\u001b[38;5;250m \u001b[39mnum_desired_results\u001b[38;5;250m \u001b[39m\u001b[38;5;28;01melse\u001b[39;00m\u001b[38;5;250m \u001b[39m\u001b[38;5;124m\"\u001b[39m\u001b[38;5;124mAll\u001b[39m\u001b[38;5;124m\"\u001b[39m\u001b[38;5;132;01m}\u001b[39;00m\u001b[38;5;124m'\u001b[39m)\n\u001b[0;32m     35\u001b[0m \u001b[38;5;28mprint\u001b[39m(\u001b[38;5;124mf\u001b[39m\u001b[38;5;124m'\u001b[39m\u001b[38;5;124mNumber of Available Results : \u001b[39m\u001b[38;5;132;01m{\u001b[39;00mnum_available_results\u001b[38;5;132;01m}\u001b[39;00m\u001b[38;5;124m'\u001b[39m)\n",
      "File \u001b[1;32mg:\\ThePublicJiraDataset\\.venv\\lib\\site-packages\\requests\\api.py:73\u001b[0m, in \u001b[0;36mget\u001b[1;34m(url, params, **kwargs)\u001b[0m\n\u001b[0;32m     62\u001b[0m \u001b[38;5;28;01mdef\u001b[39;00m\u001b[38;5;250m \u001b[39m\u001b[38;5;21mget\u001b[39m(url, params\u001b[38;5;241m=\u001b[39m\u001b[38;5;28;01mNone\u001b[39;00m, \u001b[38;5;241m*\u001b[39m\u001b[38;5;241m*\u001b[39mkwargs):\n\u001b[0;32m     63\u001b[0m \u001b[38;5;250m    \u001b[39m\u001b[38;5;124mr\u001b[39m\u001b[38;5;124;03m\"\"\"Sends a GET request.\u001b[39;00m\n\u001b[0;32m     64\u001b[0m \n\u001b[0;32m     65\u001b[0m \u001b[38;5;124;03m    :param url: URL for the new :class:`Request` object.\u001b[39;00m\n\u001b[1;32m   (...)\u001b[0m\n\u001b[0;32m     70\u001b[0m \u001b[38;5;124;03m    :rtype: requests.Response\u001b[39;00m\n\u001b[0;32m     71\u001b[0m \u001b[38;5;124;03m    \"\"\"\u001b[39;00m\n\u001b[1;32m---> 73\u001b[0m     \u001b[38;5;28;01mreturn\u001b[39;00m request(\u001b[38;5;124m\"\u001b[39m\u001b[38;5;124mget\u001b[39m\u001b[38;5;124m\"\u001b[39m, url, params\u001b[38;5;241m=\u001b[39mparams, \u001b[38;5;241m*\u001b[39m\u001b[38;5;241m*\u001b[39mkwargs)\n",
      "File \u001b[1;32mg:\\ThePublicJiraDataset\\.venv\\lib\\site-packages\\requests\\api.py:59\u001b[0m, in \u001b[0;36mrequest\u001b[1;34m(method, url, **kwargs)\u001b[0m\n\u001b[0;32m     55\u001b[0m \u001b[38;5;66;03m# By using the 'with' statement we are sure the session is closed, thus we\u001b[39;00m\n\u001b[0;32m     56\u001b[0m \u001b[38;5;66;03m# avoid leaving sockets open which can trigger a ResourceWarning in some\u001b[39;00m\n\u001b[0;32m     57\u001b[0m \u001b[38;5;66;03m# cases, and look like a memory leak in others.\u001b[39;00m\n\u001b[0;32m     58\u001b[0m \u001b[38;5;28;01mwith\u001b[39;00m sessions\u001b[38;5;241m.\u001b[39mSession() \u001b[38;5;28;01mas\u001b[39;00m session:\n\u001b[1;32m---> 59\u001b[0m     \u001b[38;5;28;01mreturn\u001b[39;00m session\u001b[38;5;241m.\u001b[39mrequest(method\u001b[38;5;241m=\u001b[39mmethod, url\u001b[38;5;241m=\u001b[39murl, \u001b[38;5;241m*\u001b[39m\u001b[38;5;241m*\u001b[39mkwargs)\n",
      "File \u001b[1;32mg:\\ThePublicJiraDataset\\.venv\\lib\\site-packages\\requests\\sessions.py:589\u001b[0m, in \u001b[0;36mSession.request\u001b[1;34m(self, method, url, params, data, headers, cookies, files, auth, timeout, allow_redirects, proxies, hooks, stream, verify, cert, json)\u001b[0m\n\u001b[0;32m    584\u001b[0m send_kwargs \u001b[38;5;241m=\u001b[39m {\n\u001b[0;32m    585\u001b[0m     \u001b[38;5;124m\"\u001b[39m\u001b[38;5;124mtimeout\u001b[39m\u001b[38;5;124m\"\u001b[39m: timeout,\n\u001b[0;32m    586\u001b[0m     \u001b[38;5;124m\"\u001b[39m\u001b[38;5;124mallow_redirects\u001b[39m\u001b[38;5;124m\"\u001b[39m: allow_redirects,\n\u001b[0;32m    587\u001b[0m }\n\u001b[0;32m    588\u001b[0m send_kwargs\u001b[38;5;241m.\u001b[39mupdate(settings)\n\u001b[1;32m--> 589\u001b[0m resp \u001b[38;5;241m=\u001b[39m \u001b[38;5;28mself\u001b[39m\u001b[38;5;241m.\u001b[39msend(prep, \u001b[38;5;241m*\u001b[39m\u001b[38;5;241m*\u001b[39msend_kwargs)\n\u001b[0;32m    591\u001b[0m \u001b[38;5;28;01mreturn\u001b[39;00m resp\n",
      "File \u001b[1;32mg:\\ThePublicJiraDataset\\.venv\\lib\\site-packages\\requests\\sessions.py:703\u001b[0m, in \u001b[0;36mSession.send\u001b[1;34m(self, request, **kwargs)\u001b[0m\n\u001b[0;32m    700\u001b[0m start \u001b[38;5;241m=\u001b[39m preferred_clock()\n\u001b[0;32m    702\u001b[0m \u001b[38;5;66;03m# Send the request\u001b[39;00m\n\u001b[1;32m--> 703\u001b[0m r \u001b[38;5;241m=\u001b[39m adapter\u001b[38;5;241m.\u001b[39msend(request, \u001b[38;5;241m*\u001b[39m\u001b[38;5;241m*\u001b[39mkwargs)\n\u001b[0;32m    705\u001b[0m \u001b[38;5;66;03m# Total elapsed time of the request (approximately)\u001b[39;00m\n\u001b[0;32m    706\u001b[0m elapsed \u001b[38;5;241m=\u001b[39m preferred_clock() \u001b[38;5;241m-\u001b[39m start\n",
      "File \u001b[1;32mg:\\ThePublicJiraDataset\\.venv\\lib\\site-packages\\requests\\adapters.py:698\u001b[0m, in \u001b[0;36mHTTPAdapter.send\u001b[1;34m(self, request, stream, timeout, verify, cert, proxies)\u001b[0m\n\u001b[0;32m    694\u001b[0m         \u001b[38;5;28;01mraise\u001b[39;00m ProxyError(e, request\u001b[38;5;241m=\u001b[39mrequest)\n\u001b[0;32m    696\u001b[0m     \u001b[38;5;28;01mif\u001b[39;00m \u001b[38;5;28misinstance\u001b[39m(e\u001b[38;5;241m.\u001b[39mreason, _SSLError):\n\u001b[0;32m    697\u001b[0m         \u001b[38;5;66;03m# This branch is for urllib3 v1.22 and later.\u001b[39;00m\n\u001b[1;32m--> 698\u001b[0m         \u001b[38;5;28;01mraise\u001b[39;00m SSLError(e, request\u001b[38;5;241m=\u001b[39mrequest)\n\u001b[0;32m    700\u001b[0m     \u001b[38;5;28;01mraise\u001b[39;00m \u001b[38;5;167;01mConnectionError\u001b[39;00m(e, request\u001b[38;5;241m=\u001b[39mrequest)\n\u001b[0;32m    702\u001b[0m \u001b[38;5;28;01mexcept\u001b[39;00m ClosedPoolError \u001b[38;5;28;01mas\u001b[39;00m e:\n",
      "\u001b[1;31mSSLError\u001b[0m: HTTPSConnectionPool(host='jira.hpdd.intel.com', port=443): Max retries exceeded with url: /rest/api/2/search?jql=&ORDER%20BY%20created%20ASC&startAt=0&maxResults=0&expand=changelog (Caused by SSLError(SSLCertVerificationError(1, \"[SSL: CERTIFICATE_VERIFY_FAILED] certificate verify failed: Hostname mismatch, certificate is not valid for 'jira.hpdd.intel.com'. (_ssl.c:997)\")))"
     ]
    }
   ],
   "source": [
    "# Last download time: 0h 5m\n",
    "download_and_write_data_mongo(jira_data_sources['IntelDAOS'])"
   ]
  },
  {
   "cell_type": "code",
   "execution_count": 13,
   "id": "d4d09014",
   "metadata": {
    "tags": []
   },
   "outputs": [
    {
     "ename": "JSONDecodeError",
     "evalue": "Expecting value: line 1 column 1 (char 0)",
     "output_type": "error",
     "traceback": [
      "\u001b[1;31m---------------------------------------------------------------------------\u001b[0m",
      "\u001b[1;31mJSONDecodeError\u001b[0m                           Traceback (most recent call last)",
      "File \u001b[1;32mg:\\ThePublicJiraDataset\\.venv\\lib\\site-packages\\requests\\models.py:974\u001b[0m, in \u001b[0;36mResponse.json\u001b[1;34m(self, **kwargs)\u001b[0m\n\u001b[0;32m    973\u001b[0m \u001b[38;5;28;01mtry\u001b[39;00m:\n\u001b[1;32m--> 974\u001b[0m     \u001b[38;5;28;01mreturn\u001b[39;00m complexjson\u001b[38;5;241m.\u001b[39mloads(\u001b[38;5;28mself\u001b[39m\u001b[38;5;241m.\u001b[39mtext, \u001b[38;5;241m*\u001b[39m\u001b[38;5;241m*\u001b[39mkwargs)\n\u001b[0;32m    975\u001b[0m \u001b[38;5;28;01mexcept\u001b[39;00m JSONDecodeError \u001b[38;5;28;01mas\u001b[39;00m e:\n\u001b[0;32m    976\u001b[0m     \u001b[38;5;66;03m# Catch JSON-related errors and raise as requests.JSONDecodeError\u001b[39;00m\n\u001b[0;32m    977\u001b[0m     \u001b[38;5;66;03m# This aliases json.JSONDecodeError and simplejson.JSONDecodeError\u001b[39;00m\n",
      "File \u001b[1;32m~\\AppData\\Local\\Programs\\Python\\Python310\\lib\\json\\__init__.py:346\u001b[0m, in \u001b[0;36mloads\u001b[1;34m(s, cls, object_hook, parse_float, parse_int, parse_constant, object_pairs_hook, **kw)\u001b[0m\n\u001b[0;32m    343\u001b[0m \u001b[38;5;28;01mif\u001b[39;00m (\u001b[38;5;28mcls\u001b[39m \u001b[38;5;129;01mis\u001b[39;00m \u001b[38;5;28;01mNone\u001b[39;00m \u001b[38;5;129;01mand\u001b[39;00m object_hook \u001b[38;5;129;01mis\u001b[39;00m \u001b[38;5;28;01mNone\u001b[39;00m \u001b[38;5;129;01mand\u001b[39;00m\n\u001b[0;32m    344\u001b[0m         parse_int \u001b[38;5;129;01mis\u001b[39;00m \u001b[38;5;28;01mNone\u001b[39;00m \u001b[38;5;129;01mand\u001b[39;00m parse_float \u001b[38;5;129;01mis\u001b[39;00m \u001b[38;5;28;01mNone\u001b[39;00m \u001b[38;5;129;01mand\u001b[39;00m\n\u001b[0;32m    345\u001b[0m         parse_constant \u001b[38;5;129;01mis\u001b[39;00m \u001b[38;5;28;01mNone\u001b[39;00m \u001b[38;5;129;01mand\u001b[39;00m object_pairs_hook \u001b[38;5;129;01mis\u001b[39;00m \u001b[38;5;28;01mNone\u001b[39;00m \u001b[38;5;129;01mand\u001b[39;00m \u001b[38;5;129;01mnot\u001b[39;00m kw):\n\u001b[1;32m--> 346\u001b[0m     \u001b[38;5;28;01mreturn\u001b[39;00m \u001b[43m_default_decoder\u001b[49m\u001b[38;5;241;43m.\u001b[39;49m\u001b[43mdecode\u001b[49m\u001b[43m(\u001b[49m\u001b[43ms\u001b[49m\u001b[43m)\u001b[49m\n\u001b[0;32m    347\u001b[0m \u001b[38;5;28;01mif\u001b[39;00m \u001b[38;5;28mcls\u001b[39m \u001b[38;5;129;01mis\u001b[39;00m \u001b[38;5;28;01mNone\u001b[39;00m:\n",
      "File \u001b[1;32m~\\AppData\\Local\\Programs\\Python\\Python310\\lib\\json\\decoder.py:337\u001b[0m, in \u001b[0;36mJSONDecoder.decode\u001b[1;34m(self, s, _w)\u001b[0m\n\u001b[0;32m    333\u001b[0m \u001b[38;5;250m\u001b[39m\u001b[38;5;124;03m\"\"\"Return the Python representation of ``s`` (a ``str`` instance\u001b[39;00m\n\u001b[0;32m    334\u001b[0m \u001b[38;5;124;03mcontaining a JSON document).\u001b[39;00m\n\u001b[0;32m    335\u001b[0m \n\u001b[0;32m    336\u001b[0m \u001b[38;5;124;03m\"\"\"\u001b[39;00m\n\u001b[1;32m--> 337\u001b[0m obj, end \u001b[38;5;241m=\u001b[39m \u001b[38;5;28;43mself\u001b[39;49m\u001b[38;5;241;43m.\u001b[39;49m\u001b[43mraw_decode\u001b[49m\u001b[43m(\u001b[49m\u001b[43ms\u001b[49m\u001b[43m,\u001b[49m\u001b[43m \u001b[49m\u001b[43midx\u001b[49m\u001b[38;5;241;43m=\u001b[39;49m\u001b[43m_w\u001b[49m\u001b[43m(\u001b[49m\u001b[43ms\u001b[49m\u001b[43m,\u001b[49m\u001b[43m \u001b[49m\u001b[38;5;241;43m0\u001b[39;49m\u001b[43m)\u001b[49m\u001b[38;5;241;43m.\u001b[39;49m\u001b[43mend\u001b[49m\u001b[43m(\u001b[49m\u001b[43m)\u001b[49m\u001b[43m)\u001b[49m\n\u001b[0;32m    338\u001b[0m end \u001b[38;5;241m=\u001b[39m _w(s, end)\u001b[38;5;241m.\u001b[39mend()\n",
      "File \u001b[1;32m~\\AppData\\Local\\Programs\\Python\\Python310\\lib\\json\\decoder.py:355\u001b[0m, in \u001b[0;36mJSONDecoder.raw_decode\u001b[1;34m(self, s, idx)\u001b[0m\n\u001b[0;32m    354\u001b[0m \u001b[38;5;28;01mexcept\u001b[39;00m \u001b[38;5;167;01mStopIteration\u001b[39;00m \u001b[38;5;28;01mas\u001b[39;00m err:\n\u001b[1;32m--> 355\u001b[0m     \u001b[38;5;28;01mraise\u001b[39;00m JSONDecodeError(\u001b[38;5;124m\"\u001b[39m\u001b[38;5;124mExpecting value\u001b[39m\u001b[38;5;124m\"\u001b[39m, s, err\u001b[38;5;241m.\u001b[39mvalue) \u001b[38;5;28;01mfrom\u001b[39;00m\u001b[38;5;250m \u001b[39m\u001b[38;5;28;01mNone\u001b[39;00m\n\u001b[0;32m    356\u001b[0m \u001b[38;5;28;01mreturn\u001b[39;00m obj, end\n",
      "\u001b[1;31mJSONDecodeError\u001b[0m: Expecting value: line 1 column 1 (char 0)",
      "\nDuring handling of the above exception, another exception occurred:\n",
      "\u001b[1;31mJSONDecodeError\u001b[0m                           Traceback (most recent call last)",
      "Cell \u001b[1;32mIn[13], line 2\u001b[0m\n\u001b[0;32m      1\u001b[0m \u001b[38;5;66;03m# Last download time: 0h 12m\u001b[39;00m\n\u001b[1;32m----> 2\u001b[0m \u001b[43mdownload_and_write_data_mongo\u001b[49m\u001b[43m(\u001b[49m\u001b[43mjira_data_sources\u001b[49m\u001b[43m[\u001b[49m\u001b[38;5;124;43m'\u001b[39;49m\u001b[38;5;124;43mJFrog\u001b[39;49m\u001b[38;5;124;43m'\u001b[39;49m\u001b[43m]\u001b[49m\u001b[43m)\u001b[49m\n",
      "Cell \u001b[1;32mIn[9], line 33\u001b[0m, in \u001b[0;36mdownload_and_write_data_mongo\u001b[1;34m(jira_data_source, num_desired_results, iteration_max, start_index)\u001b[0m\n\u001b[0;32m     30\u001b[0m issues \u001b[38;5;241m=\u001b[39m []\n\u001b[0;32m     32\u001b[0m \u001b[38;5;66;03m# Available and requested number of results\u001b[39;00m\n\u001b[1;32m---> 33\u001b[0m num_available_results \u001b[38;5;241m=\u001b[39m \u001b[43mrequests\u001b[49m\u001b[38;5;241;43m.\u001b[39;49m\u001b[43mget\u001b[49m\u001b[43m(\u001b[49m\u001b[43mbuild_url\u001b[49m\u001b[43m(\u001b[49m\u001b[43mjira_data_source\u001b[49m\u001b[43m[\u001b[49m\u001b[38;5;124;43m'\u001b[39;49m\u001b[38;5;124;43mjira_url\u001b[39;49m\u001b[38;5;124;43m'\u001b[39;49m\u001b[43m]\u001b[49m\u001b[43m,\u001b[49m\u001b[43m \u001b[49m\u001b[38;5;241;43m0\u001b[39;49m\u001b[43m,\u001b[49m\u001b[38;5;241;43m0\u001b[39;49m\u001b[43m)\u001b[49m\u001b[43m)\u001b[49m\u001b[38;5;241;43m.\u001b[39;49m\u001b[43mjson\u001b[49m\u001b[43m(\u001b[49m\u001b[43m)\u001b[49m[\u001b[38;5;124m'\u001b[39m\u001b[38;5;124mtotal\u001b[39m\u001b[38;5;124m'\u001b[39m]\n\u001b[0;32m     34\u001b[0m \u001b[38;5;28mprint\u001b[39m(\u001b[38;5;124mf\u001b[39m\u001b[38;5;124m'\u001b[39m\u001b[38;5;124mNumber of Desired Results   : \u001b[39m\u001b[38;5;132;01m{\u001b[39;00mnum_desired_results\u001b[38;5;250m \u001b[39m\u001b[38;5;28;01mif\u001b[39;00m\u001b[38;5;250m \u001b[39mnum_desired_results\u001b[38;5;250m \u001b[39m\u001b[38;5;28;01melse\u001b[39;00m\u001b[38;5;250m \u001b[39m\u001b[38;5;124m\"\u001b[39m\u001b[38;5;124mAll\u001b[39m\u001b[38;5;124m\"\u001b[39m\u001b[38;5;132;01m}\u001b[39;00m\u001b[38;5;124m'\u001b[39m)\n\u001b[0;32m     35\u001b[0m \u001b[38;5;28mprint\u001b[39m(\u001b[38;5;124mf\u001b[39m\u001b[38;5;124m'\u001b[39m\u001b[38;5;124mNumber of Available Results : \u001b[39m\u001b[38;5;132;01m{\u001b[39;00mnum_available_results\u001b[38;5;132;01m}\u001b[39;00m\u001b[38;5;124m'\u001b[39m)\n",
      "File \u001b[1;32mg:\\ThePublicJiraDataset\\.venv\\lib\\site-packages\\requests\\models.py:978\u001b[0m, in \u001b[0;36mResponse.json\u001b[1;34m(self, **kwargs)\u001b[0m\n\u001b[0;32m    974\u001b[0m     \u001b[38;5;28;01mreturn\u001b[39;00m complexjson\u001b[38;5;241m.\u001b[39mloads(\u001b[38;5;28mself\u001b[39m\u001b[38;5;241m.\u001b[39mtext, \u001b[38;5;241m*\u001b[39m\u001b[38;5;241m*\u001b[39mkwargs)\n\u001b[0;32m    975\u001b[0m \u001b[38;5;28;01mexcept\u001b[39;00m JSONDecodeError \u001b[38;5;28;01mas\u001b[39;00m e:\n\u001b[0;32m    976\u001b[0m     \u001b[38;5;66;03m# Catch JSON-related errors and raise as requests.JSONDecodeError\u001b[39;00m\n\u001b[0;32m    977\u001b[0m     \u001b[38;5;66;03m# This aliases json.JSONDecodeError and simplejson.JSONDecodeError\u001b[39;00m\n\u001b[1;32m--> 978\u001b[0m     \u001b[38;5;28;01mraise\u001b[39;00m RequestsJSONDecodeError(e\u001b[38;5;241m.\u001b[39mmsg, e\u001b[38;5;241m.\u001b[39mdoc, e\u001b[38;5;241m.\u001b[39mpos)\n",
      "\u001b[1;31mJSONDecodeError\u001b[0m: Expecting value: line 1 column 1 (char 0)"
     ]
    }
   ],
   "source": [
    "# Last download time: 0h 12m\n",
    "download_and_write_data_mongo(jira_data_sources['JFrog'])"
   ]
  },
  {
   "cell_type": "code",
   "execution_count": 11,
   "id": "f575bc69",
   "metadata": {
    "tags": []
   },
   "outputs": [
    {
     "name": "stdout",
     "output_type": "stream",
     "text": [
      "Number of Desired Results   : All\n",
      "Number of Available Results : 335613\n",
      "\n",
      "Total Remaining: 335613\n",
      "Total Remaining: 335363  Retrieved Items:  0      -  249     Duration: 00:00:08.2524\n",
      "Total Remaining: 335113  Retrieved Items:  250    -  499     Duration: 00:00:08.2235\n",
      "Total Remaining: 334863  Retrieved Items:  500    -  749     Duration: 00:00:09.7797\n",
      "Total Remaining: 334613  Retrieved Items:  750    -  999     Duration: 00:00:09.5789\n"
     ]
    },
    {
     "ename": "KeyboardInterrupt",
     "evalue": "",
     "output_type": "error",
     "traceback": [
      "\u001b[1;31m---------------------------------------------------------------------------\u001b[0m",
      "\u001b[1;31mKeyboardInterrupt\u001b[0m                         Traceback (most recent call last)",
      "Cell \u001b[1;32mIn[11], line 2\u001b[0m\n\u001b[0;32m      1\u001b[0m \u001b[38;5;66;03m# Last download time: 6h 26m\u001b[39;00m\n\u001b[1;32m----> 2\u001b[0m \u001b[43mdownload_and_write_data_mongo\u001b[49m\u001b[43m(\u001b[49m\u001b[43mjira_data_sources\u001b[49m\u001b[43m[\u001b[49m\u001b[38;5;124;43m'\u001b[39;49m\u001b[38;5;124;43mJira\u001b[39;49m\u001b[38;5;124;43m'\u001b[39;49m\u001b[43m]\u001b[49m\u001b[43m)\u001b[49m\n",
      "Cell \u001b[1;32mIn[9], line 60\u001b[0m, in \u001b[0;36mdownload_and_write_data_mongo\u001b[1;34m(jira_data_source, num_desired_results, iteration_max, start_index)\u001b[0m\n\u001b[0;32m     58\u001b[0m \u001b[38;5;66;03m# Get issues from Jira\u001b[39;00m\n\u001b[0;32m     59\u001b[0m url \u001b[38;5;241m=\u001b[39m build_url(jira_data_source[\u001b[38;5;124m'\u001b[39m\u001b[38;5;124mjira_url\u001b[39m\u001b[38;5;124m'\u001b[39m], start_index, num_items_to_retrieve)\n\u001b[1;32m---> 60\u001b[0m response \u001b[38;5;241m=\u001b[39m \u001b[43mrequests\u001b[49m\u001b[38;5;241;43m.\u001b[39;49m\u001b[43mget\u001b[49m\u001b[43m(\u001b[49m\u001b[43murl\u001b[49m\u001b[43m)\u001b[49m\n\u001b[0;32m     61\u001b[0m response_json \u001b[38;5;241m=\u001b[39m response\u001b[38;5;241m.\u001b[39mjson()\n\u001b[0;32m     62\u001b[0m \u001b[38;5;28;01mif\u001b[39;00m \u001b[38;5;124m'\u001b[39m\u001b[38;5;124missues\u001b[39m\u001b[38;5;124m'\u001b[39m \u001b[38;5;129;01min\u001b[39;00m response_json:\n\u001b[0;32m     63\u001b[0m     \u001b[38;5;66;03m# Add issues to program list\u001b[39;00m\n",
      "File \u001b[1;32mg:\\ThePublicJiraDataset\\.venv\\lib\\site-packages\\requests\\api.py:73\u001b[0m, in \u001b[0;36mget\u001b[1;34m(url, params, **kwargs)\u001b[0m\n\u001b[0;32m     62\u001b[0m \u001b[38;5;28;01mdef\u001b[39;00m\u001b[38;5;250m \u001b[39m\u001b[38;5;21mget\u001b[39m(url, params\u001b[38;5;241m=\u001b[39m\u001b[38;5;28;01mNone\u001b[39;00m, \u001b[38;5;241m*\u001b[39m\u001b[38;5;241m*\u001b[39mkwargs):\n\u001b[0;32m     63\u001b[0m \u001b[38;5;250m    \u001b[39m\u001b[38;5;124mr\u001b[39m\u001b[38;5;124;03m\"\"\"Sends a GET request.\u001b[39;00m\n\u001b[0;32m     64\u001b[0m \n\u001b[0;32m     65\u001b[0m \u001b[38;5;124;03m    :param url: URL for the new :class:`Request` object.\u001b[39;00m\n\u001b[1;32m   (...)\u001b[0m\n\u001b[0;32m     70\u001b[0m \u001b[38;5;124;03m    :rtype: requests.Response\u001b[39;00m\n\u001b[0;32m     71\u001b[0m \u001b[38;5;124;03m    \"\"\"\u001b[39;00m\n\u001b[1;32m---> 73\u001b[0m     \u001b[38;5;28;01mreturn\u001b[39;00m request(\u001b[38;5;124m\"\u001b[39m\u001b[38;5;124mget\u001b[39m\u001b[38;5;124m\"\u001b[39m, url, params\u001b[38;5;241m=\u001b[39mparams, \u001b[38;5;241m*\u001b[39m\u001b[38;5;241m*\u001b[39mkwargs)\n",
      "File \u001b[1;32mg:\\ThePublicJiraDataset\\.venv\\lib\\site-packages\\requests\\api.py:59\u001b[0m, in \u001b[0;36mrequest\u001b[1;34m(method, url, **kwargs)\u001b[0m\n\u001b[0;32m     55\u001b[0m \u001b[38;5;66;03m# By using the 'with' statement we are sure the session is closed, thus we\u001b[39;00m\n\u001b[0;32m     56\u001b[0m \u001b[38;5;66;03m# avoid leaving sockets open which can trigger a ResourceWarning in some\u001b[39;00m\n\u001b[0;32m     57\u001b[0m \u001b[38;5;66;03m# cases, and look like a memory leak in others.\u001b[39;00m\n\u001b[0;32m     58\u001b[0m \u001b[38;5;28;01mwith\u001b[39;00m sessions\u001b[38;5;241m.\u001b[39mSession() \u001b[38;5;28;01mas\u001b[39;00m session:\n\u001b[1;32m---> 59\u001b[0m     \u001b[38;5;28;01mreturn\u001b[39;00m session\u001b[38;5;241m.\u001b[39mrequest(method\u001b[38;5;241m=\u001b[39mmethod, url\u001b[38;5;241m=\u001b[39murl, \u001b[38;5;241m*\u001b[39m\u001b[38;5;241m*\u001b[39mkwargs)\n",
      "File \u001b[1;32mg:\\ThePublicJiraDataset\\.venv\\lib\\site-packages\\requests\\sessions.py:589\u001b[0m, in \u001b[0;36mSession.request\u001b[1;34m(self, method, url, params, data, headers, cookies, files, auth, timeout, allow_redirects, proxies, hooks, stream, verify, cert, json)\u001b[0m\n\u001b[0;32m    584\u001b[0m send_kwargs \u001b[38;5;241m=\u001b[39m {\n\u001b[0;32m    585\u001b[0m     \u001b[38;5;124m\"\u001b[39m\u001b[38;5;124mtimeout\u001b[39m\u001b[38;5;124m\"\u001b[39m: timeout,\n\u001b[0;32m    586\u001b[0m     \u001b[38;5;124m\"\u001b[39m\u001b[38;5;124mallow_redirects\u001b[39m\u001b[38;5;124m\"\u001b[39m: allow_redirects,\n\u001b[0;32m    587\u001b[0m }\n\u001b[0;32m    588\u001b[0m send_kwargs\u001b[38;5;241m.\u001b[39mupdate(settings)\n\u001b[1;32m--> 589\u001b[0m resp \u001b[38;5;241m=\u001b[39m \u001b[38;5;28mself\u001b[39m\u001b[38;5;241m.\u001b[39msend(prep, \u001b[38;5;241m*\u001b[39m\u001b[38;5;241m*\u001b[39msend_kwargs)\n\u001b[0;32m    591\u001b[0m \u001b[38;5;28;01mreturn\u001b[39;00m resp\n",
      "File \u001b[1;32mg:\\ThePublicJiraDataset\\.venv\\lib\\site-packages\\requests\\sessions.py:703\u001b[0m, in \u001b[0;36mSession.send\u001b[1;34m(self, request, **kwargs)\u001b[0m\n\u001b[0;32m    700\u001b[0m start \u001b[38;5;241m=\u001b[39m preferred_clock()\n\u001b[0;32m    702\u001b[0m \u001b[38;5;66;03m# Send the request\u001b[39;00m\n\u001b[1;32m--> 703\u001b[0m r \u001b[38;5;241m=\u001b[39m adapter\u001b[38;5;241m.\u001b[39msend(request, \u001b[38;5;241m*\u001b[39m\u001b[38;5;241m*\u001b[39mkwargs)\n\u001b[0;32m    705\u001b[0m \u001b[38;5;66;03m# Total elapsed time of the request (approximately)\u001b[39;00m\n\u001b[0;32m    706\u001b[0m elapsed \u001b[38;5;241m=\u001b[39m preferred_clock() \u001b[38;5;241m-\u001b[39m start\n",
      "File \u001b[1;32mg:\\ThePublicJiraDataset\\.venv\\lib\\site-packages\\requests\\adapters.py:667\u001b[0m, in \u001b[0;36mHTTPAdapter.send\u001b[1;34m(self, request, stream, timeout, verify, cert, proxies)\u001b[0m\n\u001b[0;32m    664\u001b[0m     timeout \u001b[38;5;241m=\u001b[39m TimeoutSauce(connect\u001b[38;5;241m=\u001b[39mtimeout, read\u001b[38;5;241m=\u001b[39mtimeout)\n\u001b[0;32m    666\u001b[0m \u001b[38;5;28;01mtry\u001b[39;00m:\n\u001b[1;32m--> 667\u001b[0m     resp \u001b[38;5;241m=\u001b[39m \u001b[43mconn\u001b[49m\u001b[38;5;241;43m.\u001b[39;49m\u001b[43murlopen\u001b[49m\u001b[43m(\u001b[49m\n\u001b[0;32m    668\u001b[0m \u001b[43m        \u001b[49m\u001b[43mmethod\u001b[49m\u001b[38;5;241;43m=\u001b[39;49m\u001b[43mrequest\u001b[49m\u001b[38;5;241;43m.\u001b[39;49m\u001b[43mmethod\u001b[49m\u001b[43m,\u001b[49m\n\u001b[0;32m    669\u001b[0m \u001b[43m        \u001b[49m\u001b[43murl\u001b[49m\u001b[38;5;241;43m=\u001b[39;49m\u001b[43murl\u001b[49m\u001b[43m,\u001b[49m\n\u001b[0;32m    670\u001b[0m \u001b[43m        \u001b[49m\u001b[43mbody\u001b[49m\u001b[38;5;241;43m=\u001b[39;49m\u001b[43mrequest\u001b[49m\u001b[38;5;241;43m.\u001b[39;49m\u001b[43mbody\u001b[49m\u001b[43m,\u001b[49m\n\u001b[0;32m    671\u001b[0m \u001b[43m        \u001b[49m\u001b[43mheaders\u001b[49m\u001b[38;5;241;43m=\u001b[39;49m\u001b[43mrequest\u001b[49m\u001b[38;5;241;43m.\u001b[39;49m\u001b[43mheaders\u001b[49m\u001b[43m,\u001b[49m\n\u001b[0;32m    672\u001b[0m \u001b[43m        \u001b[49m\u001b[43mredirect\u001b[49m\u001b[38;5;241;43m=\u001b[39;49m\u001b[38;5;28;43;01mFalse\u001b[39;49;00m\u001b[43m,\u001b[49m\n\u001b[0;32m    673\u001b[0m \u001b[43m        \u001b[49m\u001b[43massert_same_host\u001b[49m\u001b[38;5;241;43m=\u001b[39;49m\u001b[38;5;28;43;01mFalse\u001b[39;49;00m\u001b[43m,\u001b[49m\n\u001b[0;32m    674\u001b[0m \u001b[43m        \u001b[49m\u001b[43mpreload_content\u001b[49m\u001b[38;5;241;43m=\u001b[39;49m\u001b[38;5;28;43;01mFalse\u001b[39;49;00m\u001b[43m,\u001b[49m\n\u001b[0;32m    675\u001b[0m \u001b[43m        \u001b[49m\u001b[43mdecode_content\u001b[49m\u001b[38;5;241;43m=\u001b[39;49m\u001b[38;5;28;43;01mFalse\u001b[39;49;00m\u001b[43m,\u001b[49m\n\u001b[0;32m    676\u001b[0m \u001b[43m        \u001b[49m\u001b[43mretries\u001b[49m\u001b[38;5;241;43m=\u001b[39;49m\u001b[38;5;28;43mself\u001b[39;49m\u001b[38;5;241;43m.\u001b[39;49m\u001b[43mmax_retries\u001b[49m\u001b[43m,\u001b[49m\n\u001b[0;32m    677\u001b[0m \u001b[43m        \u001b[49m\u001b[43mtimeout\u001b[49m\u001b[38;5;241;43m=\u001b[39;49m\u001b[43mtimeout\u001b[49m\u001b[43m,\u001b[49m\n\u001b[0;32m    678\u001b[0m \u001b[43m        \u001b[49m\u001b[43mchunked\u001b[49m\u001b[38;5;241;43m=\u001b[39;49m\u001b[43mchunked\u001b[49m\u001b[43m,\u001b[49m\n\u001b[0;32m    679\u001b[0m \u001b[43m    \u001b[49m\u001b[43m)\u001b[49m\n\u001b[0;32m    681\u001b[0m \u001b[38;5;28;01mexcept\u001b[39;00m (ProtocolError, \u001b[38;5;167;01mOSError\u001b[39;00m) \u001b[38;5;28;01mas\u001b[39;00m err:\n\u001b[0;32m    682\u001b[0m     \u001b[38;5;28;01mraise\u001b[39;00m \u001b[38;5;167;01mConnectionError\u001b[39;00m(err, request\u001b[38;5;241m=\u001b[39mrequest)\n",
      "File \u001b[1;32mg:\\ThePublicJiraDataset\\.venv\\lib\\site-packages\\urllib3\\connectionpool.py:787\u001b[0m, in \u001b[0;36mHTTPConnectionPool.urlopen\u001b[1;34m(self, method, url, body, headers, retries, redirect, assert_same_host, timeout, pool_timeout, release_conn, chunked, body_pos, preload_content, decode_content, **response_kw)\u001b[0m\n\u001b[0;32m    784\u001b[0m response_conn \u001b[38;5;241m=\u001b[39m conn \u001b[38;5;28;01mif\u001b[39;00m \u001b[38;5;129;01mnot\u001b[39;00m release_conn \u001b[38;5;28;01melse\u001b[39;00m \u001b[38;5;28;01mNone\u001b[39;00m\n\u001b[0;32m    786\u001b[0m \u001b[38;5;66;03m# Make the request on the HTTPConnection object\u001b[39;00m\n\u001b[1;32m--> 787\u001b[0m response \u001b[38;5;241m=\u001b[39m \u001b[38;5;28mself\u001b[39m\u001b[38;5;241m.\u001b[39m_make_request(\n\u001b[0;32m    788\u001b[0m     conn,\n\u001b[0;32m    789\u001b[0m     method,\n\u001b[0;32m    790\u001b[0m     url,\n\u001b[0;32m    791\u001b[0m     timeout\u001b[38;5;241m=\u001b[39mtimeout_obj,\n\u001b[0;32m    792\u001b[0m     body\u001b[38;5;241m=\u001b[39mbody,\n\u001b[0;32m    793\u001b[0m     headers\u001b[38;5;241m=\u001b[39mheaders,\n\u001b[0;32m    794\u001b[0m     chunked\u001b[38;5;241m=\u001b[39mchunked,\n\u001b[0;32m    795\u001b[0m     retries\u001b[38;5;241m=\u001b[39mretries,\n\u001b[0;32m    796\u001b[0m     response_conn\u001b[38;5;241m=\u001b[39mresponse_conn,\n\u001b[0;32m    797\u001b[0m     preload_content\u001b[38;5;241m=\u001b[39mpreload_content,\n\u001b[0;32m    798\u001b[0m     decode_content\u001b[38;5;241m=\u001b[39mdecode_content,\n\u001b[0;32m    799\u001b[0m     \u001b[38;5;241m*\u001b[39m\u001b[38;5;241m*\u001b[39mresponse_kw,\n\u001b[0;32m    800\u001b[0m )\n\u001b[0;32m    802\u001b[0m \u001b[38;5;66;03m# Everything went great!\u001b[39;00m\n\u001b[0;32m    803\u001b[0m clean_exit \u001b[38;5;241m=\u001b[39m \u001b[38;5;28;01mTrue\u001b[39;00m\n",
      "File \u001b[1;32mg:\\ThePublicJiraDataset\\.venv\\lib\\site-packages\\urllib3\\connectionpool.py:534\u001b[0m, in \u001b[0;36mHTTPConnectionPool._make_request\u001b[1;34m(self, conn, method, url, body, headers, retries, timeout, chunked, response_conn, preload_content, decode_content, enforce_content_length)\u001b[0m\n\u001b[0;32m    532\u001b[0m \u001b[38;5;66;03m# Receive the response from the server\u001b[39;00m\n\u001b[0;32m    533\u001b[0m \u001b[38;5;28;01mtry\u001b[39;00m:\n\u001b[1;32m--> 534\u001b[0m     response \u001b[38;5;241m=\u001b[39m \u001b[43mconn\u001b[49m\u001b[38;5;241;43m.\u001b[39;49m\u001b[43mgetresponse\u001b[49m\u001b[43m(\u001b[49m\u001b[43m)\u001b[49m\n\u001b[0;32m    535\u001b[0m \u001b[38;5;28;01mexcept\u001b[39;00m (BaseSSLError, \u001b[38;5;167;01mOSError\u001b[39;00m) \u001b[38;5;28;01mas\u001b[39;00m e:\n\u001b[0;32m    536\u001b[0m     \u001b[38;5;28mself\u001b[39m\u001b[38;5;241m.\u001b[39m_raise_timeout(err\u001b[38;5;241m=\u001b[39me, url\u001b[38;5;241m=\u001b[39murl, timeout_value\u001b[38;5;241m=\u001b[39mread_timeout)\n",
      "File \u001b[1;32mg:\\ThePublicJiraDataset\\.venv\\lib\\site-packages\\urllib3\\connection.py:516\u001b[0m, in \u001b[0;36mHTTPConnection.getresponse\u001b[1;34m(self)\u001b[0m\n\u001b[0;32m    513\u001b[0m _shutdown \u001b[38;5;241m=\u001b[39m \u001b[38;5;28mgetattr\u001b[39m(\u001b[38;5;28mself\u001b[39m\u001b[38;5;241m.\u001b[39msock, \u001b[38;5;124m\"\u001b[39m\u001b[38;5;124mshutdown\u001b[39m\u001b[38;5;124m\"\u001b[39m, \u001b[38;5;28;01mNone\u001b[39;00m)\n\u001b[0;32m    515\u001b[0m \u001b[38;5;66;03m# Get the response from http.client.HTTPConnection\u001b[39;00m\n\u001b[1;32m--> 516\u001b[0m httplib_response \u001b[38;5;241m=\u001b[39m \u001b[38;5;28;43msuper\u001b[39;49m\u001b[43m(\u001b[49m\u001b[43m)\u001b[49m\u001b[38;5;241;43m.\u001b[39;49m\u001b[43mgetresponse\u001b[49m\u001b[43m(\u001b[49m\u001b[43m)\u001b[49m\n\u001b[0;32m    518\u001b[0m \u001b[38;5;28;01mtry\u001b[39;00m:\n\u001b[0;32m    519\u001b[0m     assert_header_parsing(httplib_response\u001b[38;5;241m.\u001b[39mmsg)\n",
      "File \u001b[1;32m~\\AppData\\Local\\Programs\\Python\\Python310\\lib\\http\\client.py:1374\u001b[0m, in \u001b[0;36mHTTPConnection.getresponse\u001b[1;34m(self)\u001b[0m\n\u001b[0;32m   1372\u001b[0m \u001b[38;5;28;01mtry\u001b[39;00m:\n\u001b[0;32m   1373\u001b[0m     \u001b[38;5;28;01mtry\u001b[39;00m:\n\u001b[1;32m-> 1374\u001b[0m         \u001b[43mresponse\u001b[49m\u001b[38;5;241;43m.\u001b[39;49m\u001b[43mbegin\u001b[49m\u001b[43m(\u001b[49m\u001b[43m)\u001b[49m\n\u001b[0;32m   1375\u001b[0m     \u001b[38;5;28;01mexcept\u001b[39;00m \u001b[38;5;167;01mConnectionError\u001b[39;00m:\n\u001b[0;32m   1376\u001b[0m         \u001b[38;5;28mself\u001b[39m\u001b[38;5;241m.\u001b[39mclose()\n",
      "File \u001b[1;32m~\\AppData\\Local\\Programs\\Python\\Python310\\lib\\http\\client.py:318\u001b[0m, in \u001b[0;36mHTTPResponse.begin\u001b[1;34m(self)\u001b[0m\n\u001b[0;32m    316\u001b[0m \u001b[38;5;66;03m# read until we get a non-100 response\u001b[39;00m\n\u001b[0;32m    317\u001b[0m \u001b[38;5;28;01mwhile\u001b[39;00m \u001b[38;5;28;01mTrue\u001b[39;00m:\n\u001b[1;32m--> 318\u001b[0m     version, status, reason \u001b[38;5;241m=\u001b[39m \u001b[38;5;28;43mself\u001b[39;49m\u001b[38;5;241;43m.\u001b[39;49m\u001b[43m_read_status\u001b[49m\u001b[43m(\u001b[49m\u001b[43m)\u001b[49m\n\u001b[0;32m    319\u001b[0m     \u001b[38;5;28;01mif\u001b[39;00m status \u001b[38;5;241m!=\u001b[39m CONTINUE:\n\u001b[0;32m    320\u001b[0m         \u001b[38;5;28;01mbreak\u001b[39;00m\n",
      "File \u001b[1;32m~\\AppData\\Local\\Programs\\Python\\Python310\\lib\\http\\client.py:279\u001b[0m, in \u001b[0;36mHTTPResponse._read_status\u001b[1;34m(self)\u001b[0m\n\u001b[0;32m    278\u001b[0m \u001b[38;5;28;01mdef\u001b[39;00m\u001b[38;5;250m \u001b[39m\u001b[38;5;21m_read_status\u001b[39m(\u001b[38;5;28mself\u001b[39m):\n\u001b[1;32m--> 279\u001b[0m     line \u001b[38;5;241m=\u001b[39m \u001b[38;5;28mstr\u001b[39m(\u001b[38;5;28;43mself\u001b[39;49m\u001b[38;5;241;43m.\u001b[39;49m\u001b[43mfp\u001b[49m\u001b[38;5;241;43m.\u001b[39;49m\u001b[43mreadline\u001b[49m\u001b[43m(\u001b[49m\u001b[43m_MAXLINE\u001b[49m\u001b[43m \u001b[49m\u001b[38;5;241;43m+\u001b[39;49m\u001b[43m \u001b[49m\u001b[38;5;241;43m1\u001b[39;49m\u001b[43m)\u001b[49m, \u001b[38;5;124m\"\u001b[39m\u001b[38;5;124miso-8859-1\u001b[39m\u001b[38;5;124m\"\u001b[39m)\n\u001b[0;32m    280\u001b[0m     \u001b[38;5;28;01mif\u001b[39;00m \u001b[38;5;28mlen\u001b[39m(line) \u001b[38;5;241m>\u001b[39m _MAXLINE:\n\u001b[0;32m    281\u001b[0m         \u001b[38;5;28;01mraise\u001b[39;00m LineTooLong(\u001b[38;5;124m\"\u001b[39m\u001b[38;5;124mstatus line\u001b[39m\u001b[38;5;124m\"\u001b[39m)\n",
      "File \u001b[1;32m~\\AppData\\Local\\Programs\\Python\\Python310\\lib\\socket.py:705\u001b[0m, in \u001b[0;36mSocketIO.readinto\u001b[1;34m(self, b)\u001b[0m\n\u001b[0;32m    703\u001b[0m \u001b[38;5;28;01mwhile\u001b[39;00m \u001b[38;5;28;01mTrue\u001b[39;00m:\n\u001b[0;32m    704\u001b[0m     \u001b[38;5;28;01mtry\u001b[39;00m:\n\u001b[1;32m--> 705\u001b[0m         \u001b[38;5;28;01mreturn\u001b[39;00m \u001b[38;5;28;43mself\u001b[39;49m\u001b[38;5;241;43m.\u001b[39;49m\u001b[43m_sock\u001b[49m\u001b[38;5;241;43m.\u001b[39;49m\u001b[43mrecv_into\u001b[49m\u001b[43m(\u001b[49m\u001b[43mb\u001b[49m\u001b[43m)\u001b[49m\n\u001b[0;32m    706\u001b[0m     \u001b[38;5;28;01mexcept\u001b[39;00m timeout:\n\u001b[0;32m    707\u001b[0m         \u001b[38;5;28mself\u001b[39m\u001b[38;5;241m.\u001b[39m_timeout_occurred \u001b[38;5;241m=\u001b[39m \u001b[38;5;28;01mTrue\u001b[39;00m\n",
      "File \u001b[1;32m~\\AppData\\Local\\Programs\\Python\\Python310\\lib\\ssl.py:1274\u001b[0m, in \u001b[0;36mSSLSocket.recv_into\u001b[1;34m(self, buffer, nbytes, flags)\u001b[0m\n\u001b[0;32m   1270\u001b[0m     \u001b[38;5;28;01mif\u001b[39;00m flags \u001b[38;5;241m!=\u001b[39m \u001b[38;5;241m0\u001b[39m:\n\u001b[0;32m   1271\u001b[0m         \u001b[38;5;28;01mraise\u001b[39;00m \u001b[38;5;167;01mValueError\u001b[39;00m(\n\u001b[0;32m   1272\u001b[0m           \u001b[38;5;124m\"\u001b[39m\u001b[38;5;124mnon-zero flags not allowed in calls to recv_into() on \u001b[39m\u001b[38;5;132;01m%s\u001b[39;00m\u001b[38;5;124m\"\u001b[39m \u001b[38;5;241m%\u001b[39m\n\u001b[0;32m   1273\u001b[0m           \u001b[38;5;28mself\u001b[39m\u001b[38;5;241m.\u001b[39m\u001b[38;5;18m__class__\u001b[39m)\n\u001b[1;32m-> 1274\u001b[0m     \u001b[38;5;28;01mreturn\u001b[39;00m \u001b[38;5;28;43mself\u001b[39;49m\u001b[38;5;241;43m.\u001b[39;49m\u001b[43mread\u001b[49m\u001b[43m(\u001b[49m\u001b[43mnbytes\u001b[49m\u001b[43m,\u001b[49m\u001b[43m \u001b[49m\u001b[43mbuffer\u001b[49m\u001b[43m)\u001b[49m\n\u001b[0;32m   1275\u001b[0m \u001b[38;5;28;01melse\u001b[39;00m:\n\u001b[0;32m   1276\u001b[0m     \u001b[38;5;28;01mreturn\u001b[39;00m \u001b[38;5;28msuper\u001b[39m()\u001b[38;5;241m.\u001b[39mrecv_into(buffer, nbytes, flags)\n",
      "File \u001b[1;32m~\\AppData\\Local\\Programs\\Python\\Python310\\lib\\ssl.py:1130\u001b[0m, in \u001b[0;36mSSLSocket.read\u001b[1;34m(self, len, buffer)\u001b[0m\n\u001b[0;32m   1128\u001b[0m \u001b[38;5;28;01mtry\u001b[39;00m:\n\u001b[0;32m   1129\u001b[0m     \u001b[38;5;28;01mif\u001b[39;00m buffer \u001b[38;5;129;01mis\u001b[39;00m \u001b[38;5;129;01mnot\u001b[39;00m \u001b[38;5;28;01mNone\u001b[39;00m:\n\u001b[1;32m-> 1130\u001b[0m         \u001b[38;5;28;01mreturn\u001b[39;00m \u001b[38;5;28;43mself\u001b[39;49m\u001b[38;5;241;43m.\u001b[39;49m\u001b[43m_sslobj\u001b[49m\u001b[38;5;241;43m.\u001b[39;49m\u001b[43mread\u001b[49m\u001b[43m(\u001b[49m\u001b[38;5;28;43mlen\u001b[39;49m\u001b[43m,\u001b[49m\u001b[43m \u001b[49m\u001b[43mbuffer\u001b[49m\u001b[43m)\u001b[49m\n\u001b[0;32m   1131\u001b[0m     \u001b[38;5;28;01melse\u001b[39;00m:\n\u001b[0;32m   1132\u001b[0m         \u001b[38;5;28;01mreturn\u001b[39;00m \u001b[38;5;28mself\u001b[39m\u001b[38;5;241m.\u001b[39m_sslobj\u001b[38;5;241m.\u001b[39mread(\u001b[38;5;28mlen\u001b[39m)\n",
      "\u001b[1;31mKeyboardInterrupt\u001b[0m: "
     ]
    }
   ],
   "source": [
    "# Last download time: 6h 26m\n",
    "download_and_write_data_mongo(jira_data_sources['Jira'])"
   ]
  },
  {
   "cell_type": "code",
   "execution_count": 15,
   "id": "eadf7403",
   "metadata": {
    "tags": []
   },
   "outputs": [
    {
     "name": "stdout",
     "output_type": "stream",
     "text": [
      "Number of Desired Results   : 1000\n",
      "Number of Available Results : 43130\n",
      "\n",
      "Total Remaining: 1000\n",
      "Total Remaining: 900   Retrieved Items:  0    -  99    Duration: 00:00:03.6841\n",
      "Total Remaining: 800   Retrieved Items:  100  -  199   Duration: 00:00:02.9340\n",
      "Total Remaining: 700   Retrieved Items:  200  -  299   Duration: 00:00:03.2498\n",
      "Total Remaining: 600   Retrieved Items:  300  -  399   Duration: 00:00:02.9121\n",
      "Total Remaining: 500   Retrieved Items:  400  -  499   Duration: 00:00:03.2263\n",
      "Total Remaining: 400   Retrieved Items:  500  -  599   Duration: 00:00:04.0727\n",
      "Total Remaining: 300   Retrieved Items:  600  -  699   Duration: 00:00:04.3523\n",
      "Total Remaining: 200   Retrieved Items:  700  -  799   Duration: 00:00:03.4787\n",
      "Total Remaining: 100   Retrieved Items:  800  -  899   Duration: 00:00:03.8095\n",
      "Total Remaining: 0     Retrieved Items:  900  -  999   Duration: 00:00:04.1362\n",
      "... Issues written to database ...\n",
      "\n",
      "Number of Downloaded Issues: 1000\n"
     ]
    }
   ],
   "source": [
    "# Last download time: 0h 30m\n",
    "download_and_write_data_mongo(jira_data_sources['JiraEcosystem'], num_desired_results=1000)"
   ]
  },
  {
   "cell_type": "code",
   "execution_count": null,
   "id": "6fe846a5",
   "metadata": {},
   "outputs": [],
   "source": [
    "# download_and_write_data_mongo(jira_data_sources['MariaDB'])"
   ]
  },
  {
   "cell_type": "code",
   "execution_count": null,
   "id": "6ab820ff",
   "metadata": {},
   "outputs": [],
   "source": [
    "# download_and_write_data_mongo(jira_data_sources['Mindville'])"
   ]
  },
  {
   "cell_type": "code",
   "execution_count": null,
   "id": "e6e89452-8e5b-4544-8cc6-9753f9e7cda4",
   "metadata": {
    "tags": []
   },
   "outputs": [],
   "source": [
    "# Last download time: 1h 26m\n",
    "download_and_write_data_mongo(jira_data_sources['Mojang'])"
   ]
  },
  {
   "cell_type": "code",
   "execution_count": null,
   "id": "fa6fc4a9",
   "metadata": {
    "tags": []
   },
   "outputs": [],
   "source": [
    "# Last download time: 3h 23m\n",
    "download_and_write_data_mongo(jira_data_sources['MongoDB'])"
   ]
  },
  {
   "cell_type": "code",
   "execution_count": null,
   "id": "1fa25d8e",
   "metadata": {
    "tags": []
   },
   "outputs": [],
   "source": [
    "# Last download time: 0h 50m\n",
    "download_and_write_data_mongo(jira_data_sources['Qt'])"
   ]
  },
  {
   "cell_type": "code",
   "execution_count": 10,
   "id": "0855624d",
   "metadata": {
    "tags": []
   },
   "outputs": [
    {
     "name": "stdout",
     "output_type": "stream",
     "text": [
      "Number of Desired Results   : All\n",
      "Number of Available Results : 0\n",
      "\n",
      "Total Remaining: 0\n",
      "\n",
      "Number of Downloaded Issues: 0\n"
     ]
    }
   ],
   "source": [
    "# Last download time: 3h 58m\n",
    "download_and_write_data_mongo(jira_data_sources['RedHat'])"
   ]
  },
  {
   "cell_type": "code",
   "execution_count": null,
   "id": "b5af1724",
   "metadata": {
    "tags": []
   },
   "outputs": [],
   "source": [
    "# Last download time: 0h 24m\n",
    "download_and_write_data_mongo(jira_data_sources['Sakai'])"
   ]
  },
  {
   "cell_type": "code",
   "execution_count": null,
   "id": "fbe351a1",
   "metadata": {
    "tags": []
   },
   "outputs": [],
   "source": [
    "# Last download time: 1h 25m\n",
    "download_and_write_data_mongo(jira_data_sources['SecondLife'])"
   ]
  },
  {
   "cell_type": "code",
   "execution_count": null,
   "id": "d9e7ed72",
   "metadata": {
    "tags": []
   },
   "outputs": [],
   "source": [
    "# Last download time: 1h 25m\n",
    "download_and_write_data_mongo(jira_data_sources['Sonatype'])"
   ]
  },
  {
   "cell_type": "code",
   "execution_count": null,
   "id": "a90441f3",
   "metadata": {
    "tags": []
   },
   "outputs": [],
   "source": [
    "# Last download time: 0h 20m\n",
    "download_and_write_data_mongo(jira_data_sources['Spring'])"
   ]
  },
  {
   "cell_type": "markdown",
   "id": "7f49ee68-2b37-4a86-aff2-309166545605",
   "metadata": {},
   "source": [
    "### Download Jira Issue Comments"
   ]
  },
  {
   "cell_type": "code",
   "execution_count": null,
   "id": "ee55ca0b",
   "metadata": {
    "tags": []
   },
   "outputs": [],
   "source": [
    "def download_jira_issue_comments(jira_data_source, *, max_comments_per_query=50, resume_at_date='0', query_wait_time_minutes=None):\n",
    "    \n",
    "    def build_url(base_url, issue_key, comments_start_index=0, max_comments_per_query=max_comments_per_query):\n",
    "        return (\n",
    "            base_url +\n",
    "            f\"/rest/api/2/issue/{issue_key}/comment\"\n",
    "            f\"?orderBy=created\"\n",
    "            f\"&startAt={comments_start_index}\"\n",
    "            f\"&maxResults={max_comments_per_query}\"\n",
    "            )\n",
    "    \n",
    "    # Initialise requests object with configurations to make it more stable\n",
    "    session = requests.Session()\n",
    "    retry = Retry(total=4, connect=4, backoff_factor=0.5)\n",
    "    adapter = HTTPAdapter(max_retries=retry)\n",
    "    session.mount('http://', adapter)\n",
    "    session.mount('https://', adapter)\n",
    "    \n",
    "    acceptable_failure_messages = [\n",
    "        'Login Required',\n",
    "        'Issue Does Not Exist',\n",
    "        'Issue does not exist or you do not have permission to see it.',\n",
    "    ]\n",
    "    \n",
    "    progress_bar_num_chunks = 100\n",
    "    progress_bar_last = -1\n",
    "\n",
    "    collection = db[jira_data_source['name']]\n",
    "\n",
    "    # Ignore Jiras that we know are now unreachable or empty\n",
    "    if jira_data_source['name'] in INVALID_JIRAS:\n",
    "        print(f\"Cannot download comments for {jira_data_source['name']} due to innaccessible Jira repo.\")\n",
    "        return\n",
    "    \n",
    "    print('Querying MongoDB for list of remaining issue keys to get comments for ...')\n",
    "\n",
    "    # The data is downloaded per issue key, so we must get a complete list of all issue keys\n",
    "    # This could be kept as a gnerator (by removing the explicit \"list()\" operator), but then we have to query the dataset twice.\n",
    "    # This is a space-time tradoff, and I have chosen time.\n",
    "    jira_issue_keys = list(collection.aggregate([\n",
    "        # Only get issues without comments already\n",
    "        { '$match': { 'fields.comments': { '$eq': None } } },\n",
    "        # We only need the issue id, key, created date\n",
    "        { '$project': { 'key': 1, 'created': '$fields.created' } },\n",
    "        # Only get issues at or equal to our \"resume\" date\n",
    "        { '$match': { 'created': { '$gte': resume_at_date } } },\n",
    "        # Sort the results by created date so we can resume if failure occurs\n",
    "        { '$sort': { 'created': 1 } },\n",
    "    ], allowDiskUse=True))\n",
    "    \n",
    "    # Get the total count of issues so we can get an understanding of progress\n",
    "    # jira_query_issue_count = collection.count_documents({ 'fields.created': { '$gte': resume_at_date } })\n",
    "    jira_query_issue_count = len(jira_issue_keys)\n",
    "    num_issues_complete = 0\n",
    "    \n",
    "    print(f\"There are {jira_query_issue_count} remaining issues.\")\n",
    "\n",
    "    # Loop through the issue keys, downloading the comments one at a time\n",
    "    for issue in jira_issue_keys:\n",
    "        \n",
    "        # print(f\"Working on issue {issue['key']} with creation date {issue['created']} ({num_issues_complete:,} / {jira_query_issue_count:,})\")\n",
    "        \n",
    "        issue_comments = []\n",
    "        comments_index = 0\n",
    "        \n",
    "        # Loop through comment downloads until all are downloaded. We don't know how many comments exist until we ask for the first N, so we need a while loop\n",
    "        while True:\n",
    "            \n",
    "            # Get the issue comments\n",
    "            url = build_url(jira_data_source['jira_url'], issue['key'], comments_start_index=comments_index)\n",
    "            response = session.get(url, verify=False)\n",
    "            response_json = response.json()\n",
    "            \n",
    "            # Check if the response is valid. If not, we skip to the next issue. Some issues are private, etc., so we skip them\n",
    "            if 'errorMessages' in response_json:\n",
    "                # Here are the error messages we may run into that we simply skip. We don't want to skip all error messages,\n",
    "                # so we only check a few here and otherwise break the script to investigate.\n",
    "                if [message for message in acceptable_failure_messages if message in response_json['errorMessages']]:\n",
    "                    break  # Break the while loop collecting comments for this issue, and move on to the next issue\n",
    "                # Otherwise ...\n",
    "                print(f\"\\nWas working on {issue['key']} with creation date {issue['created']} ({num_issues_complete:,} / {jira_query_issue_count:,})\")\n",
    "                print('\\nLast response json:')\n",
    "                display(response_json)\n",
    "                raise Exception('Not sure why the network request has failed.')\n",
    "            \n",
    "            # Save this round of issue comments\n",
    "            issue_comments.extend(response_json['comments'])\n",
    "            comments_index = len(issue_comments)\n",
    "            \n",
    "            # Wait a little as to not overload the number of requests being sent\n",
    "            if query_wait_time_minutes:\n",
    "                sleep(query_wait_time_minutes)\n",
    "            \n",
    "            # Check if we have collected all of the possible comments\n",
    "            if comments_index == response_json['total']:\n",
    "                break\n",
    "\n",
    "        # Write all of the comments to the MongoDB Jira issue at once\n",
    "        collection.update_one(\n",
    "            {'_id': issue['_id']},\n",
    "            { '$set': { 'fields.comments': issue_comments } }\n",
    "        )\n",
    "        \n",
    "        num_issues_complete += 1\n",
    "        \n",
    "        # Output progress\n",
    "        clear_output(wait=True)\n",
    "        print(f\"Jira: {jira_data_source['name']}\")\n",
    "        print(f\"Number of issues to download comments from: {jira_query_issue_count:,}\")\n",
    "        print(f\"resume_at_date: {resume_at_date}\")\n",
    "        print('')\n",
    "        print(f\"Last confirmed issue {issue['key']} with creation date {issue['created']} ({num_issues_complete:,} / {jira_query_issue_count:,})\")\n",
    "        print(f\"Progress: [{'#'*round((num_issues_complete/jira_query_issue_count)*progress_bar_num_chunks):.<{progress_bar_num_chunks}}]\")"
   ]
  },
  {
   "cell_type": "code",
   "execution_count": null,
   "id": "d9ecb491-e797-42ad-a5de-151578bd0904",
   "metadata": {
    "tags": []
   },
   "outputs": [],
   "source": [
    "# Last download time: Multiple weeks due to extreme rate-limiting.\n",
    "download_jira_issue_comments(\n",
    "    jira_data_sources['Apache'],\n",
    "    query_wait_time_minutes=0.1\n",
    ")"
   ]
  },
  {
   "cell_type": "code",
   "execution_count": null,
   "id": "feb3ba30-1836-40d1-965b-d967edb81212",
   "metadata": {
    "tags": []
   },
   "outputs": [],
   "source": [
    "# Last download time: 1h 40m (~290/m)\n",
    "download_jira_issue_comments(\n",
    "    jira_data_sources['Hyperledger']\n",
    ")"
   ]
  },
  {
   "cell_type": "code",
   "execution_count": null,
   "id": "978a2f40-f23d-4277-8f5a-a3fc7053916f",
   "metadata": {
    "tags": []
   },
   "outputs": [],
   "source": [
    "# Last download time: 3h 10m (~50/m)\n",
    "download_jira_issue_comments(\n",
    "    jira_data_sources['IntelDAOS']\n",
    ")"
   ]
  },
  {
   "cell_type": "code",
   "execution_count": null,
   "id": "ec7bc9f2-cba9-4d86-ad97-519f25e4f482",
   "metadata": {
    "tags": []
   },
   "outputs": [],
   "source": [
    "# Last download time: 1h 20m (~200/m)\n",
    "download_jira_issue_comments(\n",
    "    jira_data_sources['JFrog']\n",
    ")"
   ]
  },
  {
   "cell_type": "code",
   "execution_count": null,
   "id": "90823769-7bcd-4639-9c28-1fc3f8ec420a",
   "metadata": {},
   "outputs": [],
   "source": [
    "# Last download time: 21h 20m (~215/m)\n",
    "download_jira_issue_comments(\n",
    "    jira_data_sources['Jira']\n",
    ")"
   ]
  },
  {
   "cell_type": "code",
   "execution_count": null,
   "id": "c9dc09fe-da49-49bc-b806-b9e3b78aaef4",
   "metadata": {},
   "outputs": [],
   "source": [
    "# Last download time: 6h 40m (~105/m)\n",
    "download_jira_issue_comments(\n",
    "    jira_data_sources['JiraEcosystem']\n",
    ")"
   ]
  },
  {
   "cell_type": "code",
   "execution_count": null,
   "id": "73cb0b5d-e9c6-4849-a885-2187f3c2478b",
   "metadata": {},
   "outputs": [],
   "source": [
    "# # Last download time: h m (/m)\n",
    "# download_jira_issue_comments(\n",
    "#     jira_data_sources['MariaDB']\n",
    "# )"
   ]
  },
  {
   "cell_type": "code",
   "execution_count": null,
   "id": "5d56c546-44a2-4465-958b-90b221343ead",
   "metadata": {},
   "outputs": [],
   "source": [
    "# # Last download time: h m (/m)\n",
    "# download_jira_issue_comments(\n",
    "#     jira_data_sources['Mindville']\n",
    "# )"
   ]
  },
  {
   "cell_type": "code",
   "execution_count": null,
   "id": "d3ad9971-8835-4225-90e2-3f9e82ddbc1f",
   "metadata": {},
   "outputs": [],
   "source": [
    "# Last download time: 14h 20m (~490/m)\n",
    "download_jira_issue_comments(\n",
    "    jira_data_sources['Mojang']\n",
    ")"
   ]
  },
  {
   "cell_type": "code",
   "execution_count": null,
   "id": "08335507-ff4e-4d96-bda7-06b33fb52550",
   "metadata": {
    "tags": []
   },
   "outputs": [],
   "source": [
    "# Last download time: 18h 20m (~125/m)\n",
    "download_jira_issue_comments(\n",
    "    jira_data_sources['MongoDB']\n",
    ")"
   ]
  },
  {
   "cell_type": "code",
   "execution_count": null,
   "id": "77f44563-ef52-4960-8360-e40d55bfe1a7",
   "metadata": {},
   "outputs": [],
   "source": [
    "# Last download time: 6h 10m (~400/m)\n",
    "download_jira_issue_comments(\n",
    "    jira_data_sources['Qt']\n",
    ")"
   ]
  },
  {
   "cell_type": "code",
   "execution_count": null,
   "id": "abdf4e33-d496-4051-b3b1-93c11c397332",
   "metadata": {},
   "outputs": [],
   "source": [
    "# Last download time: 18h 5m (~325/m)\n",
    "download_jira_issue_comments(\n",
    "    jira_data_sources['RedHat']\n",
    ")"
   ]
  },
  {
   "cell_type": "code",
   "execution_count": null,
   "id": "23c5183c-7d1b-4e64-a284-8bd5ea1656f9",
   "metadata": {},
   "outputs": [],
   "source": [
    "# Last download time: 16h 50m (~50/m)\n",
    "download_jira_issue_comments(\n",
    "    jira_data_sources['Sakai']\n",
    ")"
   ]
  },
  {
   "cell_type": "code",
   "execution_count": null,
   "id": "99525d12-f676-434e-b806-87e7a52a30b0",
   "metadata": {},
   "outputs": [],
   "source": [
    "# Last download time: 0h 16m (~115/m)\n",
    "download_jira_issue_comments(\n",
    "    jira_data_sources['SecondLife']\n",
    ")"
   ]
  },
  {
   "cell_type": "code",
   "execution_count": null,
   "id": "2cba2764-2030-4439-880e-7e941234edc9",
   "metadata": {},
   "outputs": [],
   "source": [
    "# Last download time: 10h 50m (~135/m)\n",
    "download_jira_issue_comments(\n",
    "    jira_data_sources['Sonatype']\n",
    ")"
   ]
  },
  {
   "cell_type": "code",
   "execution_count": null,
   "id": "61391723-977d-43f7-bb75-e8ac69da3a3e",
   "metadata": {},
   "outputs": [],
   "source": [
    "# Last download time: 8h 0m (~145/m)\n",
    "download_jira_issue_comments(\n",
    "    jira_data_sources['Spring']\n",
    ")"
   ]
  },
  {
   "cell_type": "code",
   "execution_count": null,
   "id": "494a17af-255e-473b-9fb4-eb25bb00d66c",
   "metadata": {},
   "outputs": [],
   "source": []
  }
 ],
 "metadata": {
  "kernelspec": {
   "display_name": ".venv",
   "language": "python",
   "name": "python3"
  },
  "language_info": {
   "codemirror_mode": {
    "name": "ipython",
    "version": 3
   },
   "file_extension": ".py",
   "mimetype": "text/x-python",
   "name": "python",
   "nbconvert_exporter": "python",
   "pygments_lexer": "ipython3",
   "version": "3.10.6"
  }
 },
 "nbformat": 4,
 "nbformat_minor": 5
}
